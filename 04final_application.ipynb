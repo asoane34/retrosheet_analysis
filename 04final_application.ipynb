{
 "cells": [
  {
   "cell_type": "code",
   "execution_count": 1,
   "metadata": {},
   "outputs": [],
   "source": [
    "import numpy as np\n",
    "import pandas as pd\n",
    "import glob\n",
    "import json\n",
    "import seaborn as sns\n",
    "import matplotlib.pyplot as plt\n",
    "%matplotlib inline\n",
    "import tensorflow as tf\n",
    "import tensorflow.keras.backend as K\n",
    "from tensorflow.keras import Sequential\n",
    "from tensorflow.keras.layers import Dense, Dropout\n",
    "from tensorflow.keras.callbacks import EarlyStopping, ModelCheckpoint\n",
    "from sklearn.decomposition import PCA\n",
    "from sklearn.preprocessing import StandardScaler"
   ]
  },
  {
   "cell_type": "code",
   "execution_count": 2,
   "metadata": {},
   "outputs": [],
   "source": [
    "np.random.seed(42)"
   ]
  },
  {
   "cell_type": "code",
   "execution_count": 3,
   "metadata": {},
   "outputs": [
    {
     "name": "stdout",
     "output_type": "stream",
     "text": [
      "<class 'pandas.core.frame.DataFrame'>\n",
      "RangeIndex: 24257 entries, 0 to 24256\n",
      "Data columns (total 91 columns):\n",
      "date                              24257 non-null object\n",
      "home_OBPS                         24257 non-null float64\n",
      "home_AVG_RUNS                     24257 non-null float64\n",
      "home_AVG_H                        24257 non-null float64\n",
      "home_BULLPEN_ERA                  24257 non-null float64\n",
      "home_BULLPEN_WHIP                 24257 non-null float64\n",
      "home_BULLPEN_AVG_INNINGS          24257 non-null float64\n",
      "home_total_OBPS                   24257 non-null float64\n",
      "home_total_AVG_RUNS               24257 non-null float64\n",
      "home_total_AVG_H                  24257 non-null float64\n",
      "home_total_BULLPEN_ERA            24257 non-null float64\n",
      "home_total_BULLPEN_WHIP           24257 non-null float64\n",
      "home_total_BULLPEN_AVG_INNINGS    24257 non-null float64\n",
      "road_OBPS                         24257 non-null float64\n",
      "road_AVG_RUNS                     24257 non-null float64\n",
      "road_AVG_H                        24257 non-null float64\n",
      "road_BULLPEN_ERA                  24257 non-null float64\n",
      "road_BULLPEN_WHIP                 24257 non-null float64\n",
      "road_BULLPEN_AVG_INNINGS          24257 non-null float64\n",
      "road_total_OBPS                   24257 non-null float64\n",
      "road_total_AVG_RUNS               24257 non-null float64\n",
      "road_total_AVG_H                  24257 non-null float64\n",
      "road_total_BULLPEN_ERA            24257 non-null float64\n",
      "road_total_BULLPEN_WHIP           24257 non-null float64\n",
      "road_total_BULLPEN_AVG_INNINGS    24257 non-null float64\n",
      "home_career_ERA                   24257 non-null float64\n",
      "home_career_WHIP                  24257 non-null float64\n",
      "home_career_AVGIP                 24257 non-null float64\n",
      "home_career_ERA_AH                24257 non-null float64\n",
      "home_career_WHIP_AH               24257 non-null float64\n",
      "home_career_AVGIP_AH              24257 non-null float64\n",
      "home_season_ERA                   24257 non-null float64\n",
      "home_season_WHIP                  24257 non-null float64\n",
      "home_season_AVGIP                 24257 non-null float64\n",
      "home_season_ERA_AH                24257 non-null float64\n",
      "home_season_WHIP_AH               24257 non-null float64\n",
      "home_season_AVGIP_AH              24257 non-null float64\n",
      "road_career_ERA                   24257 non-null float64\n",
      "road_career_WHIP                  24257 non-null float64\n",
      "road_career_AVGIP                 24257 non-null float64\n",
      "road_career_ERA_OR                24257 non-null float64\n",
      "road_career_WHIP_OR               24257 non-null float64\n",
      "road_career_AVGIP_OR              24257 non-null float64\n",
      "road_season_ERA                   24257 non-null float64\n",
      "road_season_WHIP                  24257 non-null float64\n",
      "road_season_AVGIP                 24257 non-null float64\n",
      "road_season_ERA_OR                24257 non-null float64\n",
      "road_season_WHIP_OR               24257 non-null float64\n",
      "road_season_AVGIP_OR              24257 non-null float64\n",
      "elo1_pre                          24257 non-null float64\n",
      "elo2_pre                          24257 non-null float64\n",
      "elo_prob1                         24257 non-null float64\n",
      "rating1_pre                       24257 non-null float64\n",
      "rating2_pre                       24257 non-null float64\n",
      "pitcher1_rgs                      24257 non-null float64\n",
      "pitcher2_rgs                      24257 non-null float64\n",
      "pitcher1_adj                      24257 non-null float64\n",
      "pitcher2_adj                      24257 non-null float64\n",
      "rating_prob1                      24257 non-null float64\n",
      "score1                            24257 non-null float64\n",
      "score2                            24257 non-null float64\n",
      "pitching_park_factor              24257 non-null float64\n",
      "batting_park_factor               24257 non-null float64\n",
      "TMAX                              24257 non-null float64\n",
      "PRCP                              24257 non-null float64\n",
      "SNOW                              24257 non-null float64\n",
      "SNWD                              24257 non-null float64\n",
      "attendance                        24257 non-null float64\n",
      "current_streak_hm_tm              24257 non-null float64\n",
      "current_streak_hm_at_hm           24257 non-null float64\n",
      "home_record_hm                    24257 non-null float64\n",
      "run_differential_hm               24257 non-null float64\n",
      "avg_margin_hm                     24257 non-null float64\n",
      "distance_traveled                 24257 non-null float64\n",
      "current_streak_rd_tm              24257 non-null float64\n",
      "current_streak_rd_tm_on_rd        24257 non-null float64\n",
      "rd_record_rd                      24257 non-null float64\n",
      "run_differential_rd               24257 non-null float64\n",
      "avg_margin_rd                     24257 non-null float64\n",
      "home_opening                      24257 non-null float64\n",
      "home_closing                      24257 non-null float64\n",
      "total_open                        24257 non-null float64\n",
      "total_openJ                       24257 non-null float64\n",
      "total_close                       24257 non-null float64\n",
      "total_closeJ                      24257 non-null float64\n",
      "road_opening                      24257 non-null float64\n",
      "road_closing                      24257 non-null float64\n",
      "home_win                          24257 non-null int64\n",
      "year                              24257 non-null int64\n",
      "home_payout                       24257 non-null float64\n",
      "road_payout                       24257 non-null float64\n",
      "dtypes: float64(88), int64(2), object(1)\n",
      "memory usage: 16.8+ MB\n"
     ]
    }
   ],
   "source": [
    "moneyline_df = pd.read_csv('./moneyline_frame.csv.gz', compression = 'gzip')\n",
    "moneyline_df.info()"
   ]
  },
  {
   "cell_type": "code",
   "execution_count": 4,
   "metadata": {},
   "outputs": [],
   "source": [
    "#load selected feature set \n",
    "with open('./selected_features.json', 'r') as f:\n",
    "    selected_features = json.load(f)"
   ]
  },
  {
   "cell_type": "code",
   "execution_count": 5,
   "metadata": {},
   "outputs": [],
   "source": [
    "#extract feature set (determined in feature selection )\n",
    "moneyline_df = moneyline_df[selected_features]"
   ]
  },
  {
   "cell_type": "markdown",
   "metadata": {},
   "source": [
    "# EDA discovery"
   ]
  },
  {
   "cell_type": "code",
   "execution_count": 6,
   "metadata": {},
   "outputs": [
    {
     "data": {
      "image/png": "[encoded data removed]",
      "text/plain": [
       "<Figure size 1080x144 with 1 Axes>"
      ]
     },
     "metadata": {
      "needs_background": "light"
     },
     "output_type": "display_data"
    },
    {
     "data": {
      "image/png": "[encoded data removed]",
      "text/plain": [
       "<Figure size 1080x144 with 1 Axes>"
      ]
     },
     "metadata": {
      "needs_background": "light"
     },
     "output_type": "display_data"
    },
    {
     "data": {
      "image/png": "[encoded data removed]",
      "text/plain": [
       "<Figure size 1080x144 with 1 Axes>"
      ]
     },
     "metadata": {
      "needs_background": "light"
     },
     "output_type": "display_data"
    },
    {
     "data": {
      "image/png": "[encoded data removed]",
      "text/plain": [
       "<Figure size 1080x144 with 1 Axes>"
      ]
     },
     "metadata": {
      "needs_background": "light"
     },
     "output_type": "display_data"
    }
   ],
   "source": [
    "#view distributions of odds features\n",
    "odds_features = ['home_opening', 'home_closing', 'road_opening', 'road_closing']\n",
    "for feature in odds_features:\n",
    "    plt.figure(figsize = (15, 2))\n",
    "    sns.boxplot(x = moneyline_df[feature])"
   ]
  },
  {
   "cell_type": "code",
   "execution_count": 7,
   "metadata": {},
   "outputs": [
    {
     "data": {
      "text/html": [
       "<div>\n",
       "<style scoped>\n",
       "    .dataframe tbody tr th:only-of-type {\n",
       "        vertical-align: middle;\n",
       "    }\n",
       "\n",
       "    .dataframe tbody tr th {\n",
       "        vertical-align: top;\n",
       "    }\n",
       "\n",
       "    .dataframe thead th {\n",
       "        text-align: right;\n",
       "    }\n",
       "</style>\n",
       "<table border=\"1\" class=\"dataframe\">\n",
       "  <thead>\n",
       "    <tr style=\"text-align: right;\">\n",
       "      <th></th>\n",
       "      <th>home_OBPS</th>\n",
       "      <th>home_AVG_RUNS</th>\n",
       "      <th>home_AVG_H</th>\n",
       "      <th>home_BULLPEN_ERA</th>\n",
       "      <th>home_BULLPEN_WHIP</th>\n",
       "      <th>road_OBPS</th>\n",
       "      <th>road_AVG_RUNS</th>\n",
       "      <th>road_AVG_H</th>\n",
       "      <th>road_BULLPEN_ERA</th>\n",
       "      <th>road_BULLPEN_WHIP</th>\n",
       "      <th>...</th>\n",
       "      <th>run_differential_rd</th>\n",
       "      <th>avg_margin_rd</th>\n",
       "      <th>home_opening</th>\n",
       "      <th>home_closing</th>\n",
       "      <th>road_opening</th>\n",
       "      <th>road_closing</th>\n",
       "      <th>home_win</th>\n",
       "      <th>year</th>\n",
       "      <th>home_season_ERA_AH</th>\n",
       "      <th>date</th>\n",
       "    </tr>\n",
       "  </thead>\n",
       "  <tbody>\n",
       "    <tr>\n",
       "      <th>22320</th>\n",
       "      <td>0.741787</td>\n",
       "      <td>4.642857</td>\n",
       "      <td>7.285714</td>\n",
       "      <td>4.287983</td>\n",
       "      <td>1.517558</td>\n",
       "      <td>0.691507</td>\n",
       "      <td>3.75</td>\n",
       "      <td>7.8125</td>\n",
       "      <td>3.288462</td>\n",
       "      <td>1.269231</td>\n",
       "      <td>...</td>\n",
       "      <td>-6.0</td>\n",
       "      <td>0.0</td>\n",
       "      <td>-1235.0</td>\n",
       "      <td>-124.0</td>\n",
       "      <td>770.0</td>\n",
       "      <td>114.0</td>\n",
       "      <td>1</td>\n",
       "      <td>2019</td>\n",
       "      <td>3.069577</td>\n",
       "      <td>2019-05-04</td>\n",
       "    </tr>\n",
       "  </tbody>\n",
       "</table>\n",
       "<p>1 rows × 34 columns</p>\n",
       "</div>"
      ],
      "text/plain": [
       "       home_OBPS  home_AVG_RUNS  home_AVG_H  home_BULLPEN_ERA  \\\n",
       "22320   0.741787       4.642857    7.285714          4.287983   \n",
       "\n",
       "       home_BULLPEN_WHIP  road_OBPS  road_AVG_RUNS  road_AVG_H  \\\n",
       "22320           1.517558   0.691507           3.75      7.8125   \n",
       "\n",
       "       road_BULLPEN_ERA  road_BULLPEN_WHIP  ...  run_differential_rd  \\\n",
       "22320          3.288462           1.269231  ...                 -6.0   \n",
       "\n",
       "       avg_margin_rd  home_opening  home_closing  road_opening  road_closing  \\\n",
       "22320            0.0       -1235.0        -124.0         770.0         114.0   \n",
       "\n",
       "       home_win  year  home_season_ERA_AH        date  \n",
       "22320         1  2019            3.069577  2019-05-04  \n",
       "\n",
       "[1 rows x 34 columns]"
      ]
     },
     "execution_count": 7,
     "metadata": {},
     "output_type": "execute_result"
    }
   ],
   "source": [
    "#view concerning datapoints\n",
    "problem_set = moneyline_df[(moneyline_df.home_opening < - 1000) | (moneyline_df.road_opening > 600)]\n",
    "problem_set"
   ]
  },
  {
   "cell_type": "markdown",
   "metadata": {},
   "source": [
    "This game opened at $-1235/+770$ and was either bet down to $-124/+114$... This is not a realistic gambling scheme, and I cannot determine without further research what caused this, so I will be removing this datapoint."
   ]
  },
  {
   "cell_type": "code",
   "execution_count": 8,
   "metadata": {},
   "outputs": [],
   "source": [
    "moneyline_df = moneyline_df.drop(problem_set.index, axis = 0).reset_index(drop = True)"
   ]
  },
  {
   "cell_type": "code",
   "execution_count": 9,
   "metadata": {},
   "outputs": [
    {
     "data": {
      "text/html": [
       "<div>\n",
       "<style scoped>\n",
       "    .dataframe tbody tr th:only-of-type {\n",
       "        vertical-align: middle;\n",
       "    }\n",
       "\n",
       "    .dataframe tbody tr th {\n",
       "        vertical-align: top;\n",
       "    }\n",
       "\n",
       "    .dataframe thead th {\n",
       "        text-align: right;\n",
       "    }\n",
       "</style>\n",
       "<table border=\"1\" class=\"dataframe\">\n",
       "  <thead>\n",
       "    <tr style=\"text-align: right;\">\n",
       "      <th></th>\n",
       "      <th>home_OBPS</th>\n",
       "      <th>home_AVG_RUNS</th>\n",
       "      <th>home_AVG_H</th>\n",
       "      <th>home_BULLPEN_ERA</th>\n",
       "      <th>home_BULLPEN_WHIP</th>\n",
       "      <th>road_OBPS</th>\n",
       "      <th>road_AVG_RUNS</th>\n",
       "      <th>road_AVG_H</th>\n",
       "      <th>road_BULLPEN_ERA</th>\n",
       "      <th>road_BULLPEN_WHIP</th>\n",
       "      <th>home_career_ERA_AH</th>\n",
       "      <th>home_career_WHIP_AH</th>\n",
       "      <th>road_career_ERA_OR</th>\n",
       "      <th>road_career_WHIP_OR</th>\n",
       "      <th>road_season_ERA_OR</th>\n",
       "      <th>road_season_WHIP_OR</th>\n",
       "      <th>current_streak_hm_tm</th>\n",
       "      <th>current_streak_hm_at_hm</th>\n",
       "      <th>home_record_hm</th>\n",
       "      <th>run_differential_hm</th>\n",
       "      <th>avg_margin_hm</th>\n",
       "      <th>current_streak_rd_tm</th>\n",
       "      <th>current_streak_rd_tm_on_rd</th>\n",
       "      <th>rd_record_rd</th>\n",
       "      <th>run_differential_rd</th>\n",
       "      <th>avg_margin_rd</th>\n",
       "      <th>home_opening</th>\n",
       "      <th>home_closing</th>\n",
       "      <th>road_opening</th>\n",
       "      <th>road_closing</th>\n",
       "      <th>home_win</th>\n",
       "      <th>year</th>\n",
       "      <th>home_season_ERA_AH</th>\n",
       "    </tr>\n",
       "  </thead>\n",
       "  <tbody>\n",
       "    <tr>\n",
       "      <th>count</th>\n",
       "      <td>24256.000000</td>\n",
       "      <td>24256.000000</td>\n",
       "      <td>24256.000000</td>\n",
       "      <td>24256.000000</td>\n",
       "      <td>24256.000000</td>\n",
       "      <td>24256.000000</td>\n",
       "      <td>24256.000000</td>\n",
       "      <td>24256.000000</td>\n",
       "      <td>24256.000000</td>\n",
       "      <td>24256.000000</td>\n",
       "      <td>24256.000000</td>\n",
       "      <td>24256.000000</td>\n",
       "      <td>24256.000000</td>\n",
       "      <td>24256.000000</td>\n",
       "      <td>24256.000000</td>\n",
       "      <td>24256.000000</td>\n",
       "      <td>24256.000000</td>\n",
       "      <td>24256.000000</td>\n",
       "      <td>24256.000000</td>\n",
       "      <td>24256.000000</td>\n",
       "      <td>24256.000000</td>\n",
       "      <td>24256.000000</td>\n",
       "      <td>24256.000000</td>\n",
       "      <td>24256.000000</td>\n",
       "      <td>24256.000000</td>\n",
       "      <td>24256.000000</td>\n",
       "      <td>24256.000000</td>\n",
       "      <td>24256.000000</td>\n",
       "      <td>24256.000000</td>\n",
       "      <td>24256.000000</td>\n",
       "      <td>24256.000000</td>\n",
       "      <td>24256.000000</td>\n",
       "      <td>24256.000000</td>\n",
       "    </tr>\n",
       "    <tr>\n",
       "      <th>mean</th>\n",
       "      <td>0.726230</td>\n",
       "      <td>4.363696</td>\n",
       "      <td>8.407522</td>\n",
       "      <td>3.720565</td>\n",
       "      <td>1.268089</td>\n",
       "      <td>0.699715</td>\n",
       "      <td>4.273058</td>\n",
       "      <td>8.539405</td>\n",
       "      <td>3.874378</td>\n",
       "      <td>1.315953</td>\n",
       "      <td>3.819628</td>\n",
       "      <td>1.250172</td>\n",
       "      <td>4.213090</td>\n",
       "      <td>1.325101</td>\n",
       "      <td>3.912480</td>\n",
       "      <td>1.203699</td>\n",
       "      <td>-0.036156</td>\n",
       "      <td>0.274324</td>\n",
       "      <td>2.657610</td>\n",
       "      <td>4.055904</td>\n",
       "      <td>0.047287</td>\n",
       "      <td>-0.421834</td>\n",
       "      <td>-0.275932</td>\n",
       "      <td>-2.649819</td>\n",
       "      <td>-4.044855</td>\n",
       "      <td>-0.060026</td>\n",
       "      <td>-68.519583</td>\n",
       "      <td>-69.651880</td>\n",
       "      <td>37.600223</td>\n",
       "      <td>37.618816</td>\n",
       "      <td>0.535538</td>\n",
       "      <td>2014.499134</td>\n",
       "      <td>3.551979</td>\n",
       "    </tr>\n",
       "    <tr>\n",
       "      <th>std</th>\n",
       "      <td>0.108697</td>\n",
       "      <td>1.053112</td>\n",
       "      <td>1.368092</td>\n",
       "      <td>1.394584</td>\n",
       "      <td>0.252873</td>\n",
       "      <td>0.100118</td>\n",
       "      <td>0.989404</td>\n",
       "      <td>1.331755</td>\n",
       "      <td>1.423701</td>\n",
       "      <td>0.264731</td>\n",
       "      <td>1.579010</td>\n",
       "      <td>0.310012</td>\n",
       "      <td>1.866187</td>\n",
       "      <td>0.338238</td>\n",
       "      <td>3.130964</td>\n",
       "      <td>0.601791</td>\n",
       "      <td>2.333654</td>\n",
       "      <td>2.519179</td>\n",
       "      <td>8.678199</td>\n",
       "      <td>38.878951</td>\n",
       "      <td>0.969601</td>\n",
       "      <td>2.148591</td>\n",
       "      <td>2.572857</td>\n",
       "      <td>8.336525</td>\n",
       "      <td>38.485959</td>\n",
       "      <td>0.974729</td>\n",
       "      <td>133.235040</td>\n",
       "      <td>135.807434</td>\n",
       "      <td>136.753525</td>\n",
       "      <td>139.904942</td>\n",
       "      <td>0.498746</td>\n",
       "      <td>2.871795</td>\n",
       "      <td>2.905983</td>\n",
       "    </tr>\n",
       "    <tr>\n",
       "      <th>min</th>\n",
       "      <td>0.000000</td>\n",
       "      <td>0.000000</td>\n",
       "      <td>0.000000</td>\n",
       "      <td>0.000000</td>\n",
       "      <td>0.000000</td>\n",
       "      <td>0.000000</td>\n",
       "      <td>0.000000</td>\n",
       "      <td>0.000000</td>\n",
       "      <td>0.000000</td>\n",
       "      <td>0.000000</td>\n",
       "      <td>0.000000</td>\n",
       "      <td>0.000000</td>\n",
       "      <td>0.000000</td>\n",
       "      <td>0.000000</td>\n",
       "      <td>0.000000</td>\n",
       "      <td>0.000000</td>\n",
       "      <td>-14.000000</td>\n",
       "      <td>-12.000000</td>\n",
       "      <td>-36.000000</td>\n",
       "      <td>-215.000000</td>\n",
       "      <td>-15.000000</td>\n",
       "      <td>-17.000000</td>\n",
       "      <td>-17.000000</td>\n",
       "      <td>-46.000000</td>\n",
       "      <td>-208.000000</td>\n",
       "      <td>-15.000000</td>\n",
       "      <td>-500.000000</td>\n",
       "      <td>-550.000000</td>\n",
       "      <td>-450.000000</td>\n",
       "      <td>-500.000000</td>\n",
       "      <td>0.000000</td>\n",
       "      <td>2010.000000</td>\n",
       "      <td>0.000000</td>\n",
       "    </tr>\n",
       "    <tr>\n",
       "      <th>25%</th>\n",
       "      <td>0.693520</td>\n",
       "      <td>3.827586</td>\n",
       "      <td>7.969697</td>\n",
       "      <td>2.995402</td>\n",
       "      <td>1.169437</td>\n",
       "      <td>0.673702</td>\n",
       "      <td>3.833333</td>\n",
       "      <td>8.136364</td>\n",
       "      <td>3.147268</td>\n",
       "      <td>1.209591</td>\n",
       "      <td>3.228511</td>\n",
       "      <td>1.159693</td>\n",
       "      <td>3.621412</td>\n",
       "      <td>1.240722</td>\n",
       "      <td>2.454545</td>\n",
       "      <td>1.041667</td>\n",
       "      <td>-1.000000</td>\n",
       "      <td>-1.000000</td>\n",
       "      <td>-2.000000</td>\n",
       "      <td>-17.000000</td>\n",
       "      <td>0.000000</td>\n",
       "      <td>-2.000000</td>\n",
       "      <td>-2.000000</td>\n",
       "      <td>-7.000000</td>\n",
       "      <td>-23.000000</td>\n",
       "      <td>0.000000</td>\n",
       "      <td>-160.000000</td>\n",
       "      <td>-158.000000</td>\n",
       "      <td>-117.000000</td>\n",
       "      <td>-115.000000</td>\n",
       "      <td>0.000000</td>\n",
       "      <td>2012.000000</td>\n",
       "      <td>2.084245</td>\n",
       "    </tr>\n",
       "    <tr>\n",
       "      <th>50%</th>\n",
       "      <td>0.732817</td>\n",
       "      <td>4.356164</td>\n",
       "      <td>8.482759</td>\n",
       "      <td>3.674208</td>\n",
       "      <td>1.273946</td>\n",
       "      <td>0.704974</td>\n",
       "      <td>4.283019</td>\n",
       "      <td>8.630286</td>\n",
       "      <td>3.813849</td>\n",
       "      <td>1.321358</td>\n",
       "      <td>3.731031</td>\n",
       "      <td>1.265432</td>\n",
       "      <td>4.144943</td>\n",
       "      <td>1.333333</td>\n",
       "      <td>3.785489</td>\n",
       "      <td>1.275862</td>\n",
       "      <td>1.000000</td>\n",
       "      <td>1.000000</td>\n",
       "      <td>2.000000</td>\n",
       "      <td>2.000000</td>\n",
       "      <td>0.000000</td>\n",
       "      <td>-1.000000</td>\n",
       "      <td>-1.000000</td>\n",
       "      <td>-2.000000</td>\n",
       "      <td>-2.000000</td>\n",
       "      <td>0.000000</td>\n",
       "      <td>-125.000000</td>\n",
       "      <td>-124.000000</td>\n",
       "      <td>111.000000</td>\n",
       "      <td>112.000000</td>\n",
       "      <td>1.000000</td>\n",
       "      <td>2014.000000</td>\n",
       "      <td>3.377111</td>\n",
       "    </tr>\n",
       "    <tr>\n",
       "      <th>75%</th>\n",
       "      <td>0.776457</td>\n",
       "      <td>4.931034</td>\n",
       "      <td>9.019053</td>\n",
       "      <td>4.368197</td>\n",
       "      <td>1.390679</td>\n",
       "      <td>0.740919</td>\n",
       "      <td>4.730769</td>\n",
       "      <td>9.107692</td>\n",
       "      <td>4.536748</td>\n",
       "      <td>1.432334</td>\n",
       "      <td>4.354670</td>\n",
       "      <td>1.361725</td>\n",
       "      <td>4.680832</td>\n",
       "      <td>1.436379</td>\n",
       "      <td>5.103581</td>\n",
       "      <td>1.499151</td>\n",
       "      <td>1.000000</td>\n",
       "      <td>2.000000</td>\n",
       "      <td>7.000000</td>\n",
       "      <td>25.000000</td>\n",
       "      <td>0.000000</td>\n",
       "      <td>1.000000</td>\n",
       "      <td>1.000000</td>\n",
       "      <td>2.000000</td>\n",
       "      <td>15.000000</td>\n",
       "      <td>0.000000</td>\n",
       "      <td>105.000000</td>\n",
       "      <td>105.000000</td>\n",
       "      <td>140.000000</td>\n",
       "      <td>141.000000</td>\n",
       "      <td>1.000000</td>\n",
       "      <td>2017.000000</td>\n",
       "      <td>4.682622</td>\n",
       "    </tr>\n",
       "    <tr>\n",
       "      <th>max</th>\n",
       "      <td>1.441758</td>\n",
       "      <td>17.000000</td>\n",
       "      <td>19.000000</td>\n",
       "      <td>34.763948</td>\n",
       "      <td>5.579399</td>\n",
       "      <td>1.365521</td>\n",
       "      <td>15.000000</td>\n",
       "      <td>19.000000</td>\n",
       "      <td>27.000000</td>\n",
       "      <td>5.970149</td>\n",
       "      <td>80.597015</td>\n",
       "      <td>11.940299</td>\n",
       "      <td>107.462687</td>\n",
       "      <td>14.925373</td>\n",
       "      <td>136.363636</td>\n",
       "      <td>21.212121</td>\n",
       "      <td>11.000000</td>\n",
       "      <td>15.000000</td>\n",
       "      <td>39.000000</td>\n",
       "      <td>174.000000</td>\n",
       "      <td>15.000000</td>\n",
       "      <td>11.000000</td>\n",
       "      <td>15.000000</td>\n",
       "      <td>34.000000</td>\n",
       "      <td>182.000000</td>\n",
       "      <td>15.000000</td>\n",
       "      <td>351.000000</td>\n",
       "      <td>400.000000</td>\n",
       "      <td>390.000000</td>\n",
       "      <td>437.000000</td>\n",
       "      <td>1.000000</td>\n",
       "      <td>2019.000000</td>\n",
       "      <td>136.363636</td>\n",
       "    </tr>\n",
       "  </tbody>\n",
       "</table>\n",
       "</div>"
      ],
      "text/plain": [
       "          home_OBPS  home_AVG_RUNS    home_AVG_H  home_BULLPEN_ERA  \\\n",
       "count  24256.000000   24256.000000  24256.000000      24256.000000   \n",
       "mean       0.726230       4.363696      8.407522          3.720565   \n",
       "std        0.108697       1.053112      1.368092          1.394584   \n",
       "min        0.000000       0.000000      0.000000          0.000000   \n",
       "25%        0.693520       3.827586      7.969697          2.995402   \n",
       "50%        0.732817       4.356164      8.482759          3.674208   \n",
       "75%        0.776457       4.931034      9.019053          4.368197   \n",
       "max        1.441758      17.000000     19.000000         34.763948   \n",
       "\n",
       "       home_BULLPEN_WHIP     road_OBPS  road_AVG_RUNS    road_AVG_H  \\\n",
       "count       24256.000000  24256.000000   24256.000000  24256.000000   \n",
       "mean            1.268089      0.699715       4.273058      8.539405   \n",
       "std             0.252873      0.100118       0.989404      1.331755   \n",
       "min             0.000000      0.000000       0.000000      0.000000   \n",
       "25%             1.169437      0.673702       3.833333      8.136364   \n",
       "50%             1.273946      0.704974       4.283019      8.630286   \n",
       "75%             1.390679      0.740919       4.730769      9.107692   \n",
       "max             5.579399      1.365521      15.000000     19.000000   \n",
       "\n",
       "       road_BULLPEN_ERA  road_BULLPEN_WHIP  home_career_ERA_AH  \\\n",
       "count      24256.000000       24256.000000        24256.000000   \n",
       "mean           3.874378           1.315953            3.819628   \n",
       "std            1.423701           0.264731            1.579010   \n",
       "min            0.000000           0.000000            0.000000   \n",
       "25%            3.147268           1.209591            3.228511   \n",
       "50%            3.813849           1.321358            3.731031   \n",
       "75%            4.536748           1.432334            4.354670   \n",
       "max           27.000000           5.970149           80.597015   \n",
       "\n",
       "       home_career_WHIP_AH  road_career_ERA_OR  road_career_WHIP_OR  \\\n",
       "count         24256.000000        24256.000000         24256.000000   \n",
       "mean              1.250172            4.213090             1.325101   \n",
       "std               0.310012            1.866187             0.338238   \n",
       "min               0.000000            0.000000             0.000000   \n",
       "25%               1.159693            3.621412             1.240722   \n",
       "50%               1.265432            4.144943             1.333333   \n",
       "75%               1.361725            4.680832             1.436379   \n",
       "max              11.940299          107.462687            14.925373   \n",
       "\n",
       "       road_season_ERA_OR  road_season_WHIP_OR  current_streak_hm_tm  \\\n",
       "count        24256.000000         24256.000000          24256.000000   \n",
       "mean             3.912480             1.203699             -0.036156   \n",
       "std              3.130964             0.601791              2.333654   \n",
       "min              0.000000             0.000000            -14.000000   \n",
       "25%              2.454545             1.041667             -1.000000   \n",
       "50%              3.785489             1.275862              1.000000   \n",
       "75%              5.103581             1.499151              1.000000   \n",
       "max            136.363636            21.212121             11.000000   \n",
       "\n",
       "       current_streak_hm_at_hm  home_record_hm  run_differential_hm  \\\n",
       "count             24256.000000    24256.000000         24256.000000   \n",
       "mean                  0.274324        2.657610             4.055904   \n",
       "std                   2.519179        8.678199            38.878951   \n",
       "min                 -12.000000      -36.000000          -215.000000   \n",
       "25%                  -1.000000       -2.000000           -17.000000   \n",
       "50%                   1.000000        2.000000             2.000000   \n",
       "75%                   2.000000        7.000000            25.000000   \n",
       "max                  15.000000       39.000000           174.000000   \n",
       "\n",
       "       avg_margin_hm  current_streak_rd_tm  current_streak_rd_tm_on_rd  \\\n",
       "count   24256.000000          24256.000000                24256.000000   \n",
       "mean        0.047287             -0.421834                   -0.275932   \n",
       "std         0.969601              2.148591                    2.572857   \n",
       "min       -15.000000            -17.000000                  -17.000000   \n",
       "25%         0.000000             -2.000000                   -2.000000   \n",
       "50%         0.000000             -1.000000                   -1.000000   \n",
       "75%         0.000000              1.000000                    1.000000   \n",
       "max        15.000000             11.000000                   15.000000   \n",
       "\n",
       "       rd_record_rd  run_differential_rd  avg_margin_rd  home_opening  \\\n",
       "count  24256.000000         24256.000000   24256.000000  24256.000000   \n",
       "mean      -2.649819            -4.044855      -0.060026    -68.519583   \n",
       "std        8.336525            38.485959       0.974729    133.235040   \n",
       "min      -46.000000          -208.000000     -15.000000   -500.000000   \n",
       "25%       -7.000000           -23.000000       0.000000   -160.000000   \n",
       "50%       -2.000000            -2.000000       0.000000   -125.000000   \n",
       "75%        2.000000            15.000000       0.000000    105.000000   \n",
       "max       34.000000           182.000000      15.000000    351.000000   \n",
       "\n",
       "       home_closing  road_opening  road_closing      home_win          year  \\\n",
       "count  24256.000000  24256.000000  24256.000000  24256.000000  24256.000000   \n",
       "mean     -69.651880     37.600223     37.618816      0.535538   2014.499134   \n",
       "std      135.807434    136.753525    139.904942      0.498746      2.871795   \n",
       "min     -550.000000   -450.000000   -500.000000      0.000000   2010.000000   \n",
       "25%     -158.000000   -117.000000   -115.000000      0.000000   2012.000000   \n",
       "50%     -124.000000    111.000000    112.000000      1.000000   2014.000000   \n",
       "75%      105.000000    140.000000    141.000000      1.000000   2017.000000   \n",
       "max      400.000000    390.000000    437.000000      1.000000   2019.000000   \n",
       "\n",
       "       home_season_ERA_AH  \n",
       "count        24256.000000  \n",
       "mean             3.551979  \n",
       "std              2.905983  \n",
       "min              0.000000  \n",
       "25%              2.084245  \n",
       "50%              3.377111  \n",
       "75%              4.682622  \n",
       "max            136.363636  "
      ]
     },
     "execution_count": 9,
     "metadata": {},
     "output_type": "execute_result"
    }
   ],
   "source": [
    "pd.set_option('max.columns', 50)\n",
    "moneyline_df.describe()"
   ]
  },
  {
   "cell_type": "code",
   "execution_count": 10,
   "metadata": {},
   "outputs": [
    {
     "data": {
      "image/png": "[encoded data removed]",
      "text/plain": [
       "<Figure size 1080x144 with 1 Axes>"
      ]
     },
     "metadata": {
      "needs_background": "light"
     },
     "output_type": "display_data"
    },
    {
     "data": {
      "image/png": "[encoded data removed]",
      "text/plain": [
       "<Figure size 1080x144 with 1 Axes>"
      ]
     },
     "metadata": {
      "needs_background": "light"
     },
     "output_type": "display_data"
    },
    {
     "data": {
      "image/png": "[encoded data removed]",
      "text/plain": [
       "<Figure size 1080x144 with 1 Axes>"
      ]
     },
     "metadata": {
      "needs_background": "light"
     },
     "output_type": "display_data"
    },
    {
     "data": {
      "image/png": "[encoded data removed]",
      "text/plain": [
       "<Figure size 1080x144 with 1 Axes>"
      ]
     },
     "metadata": {
      "needs_background": "light"
     },
     "output_type": "display_data"
    },
    {
     "data": {
      "image/png": "[encoded data removed]",
      "text/plain": [
       "<Figure size 1080x144 with 1 Axes>"
      ]
     },
     "metadata": {
      "needs_background": "light"
     },
     "output_type": "display_data"
    },
    {
     "data": {
      "image/png": "[encoded data removed]",
      "text/plain": [
       "<Figure size 1080x144 with 1 Axes>"
      ]
     },
     "metadata": {
      "needs_background": "light"
     },
     "output_type": "display_data"
    },
    {
     "data": {
      "image/png": "[encoded data removed]",
      "text/plain": [
       "<Figure size 1080x144 with 1 Axes>"
      ]
     },
     "metadata": {
      "needs_background": "light"
     },
     "output_type": "display_data"
    }
   ],
   "source": [
    "#view distributions of pitching statistics\n",
    "pitching_stats = ['home_career_ERA_AH', 'home_career_WHIP_AH', 'home_season_ERA_AH', 'road_career_ERA_OR',\n",
    "                 'road_career_WHIP_OR', 'road_season_ERA_OR', 'road_season_WHIP_OR']\n",
    "for feature in pitching_stats:\n",
    "    plt.figure(figsize = (15, 2))\n",
    "    sns.boxplot(x = moneyline_df[feature])"
   ]
  },
  {
   "cell_type": "code",
   "execution_count": 11,
   "metadata": {},
   "outputs": [
    {
     "name": "stdout",
     "output_type": "stream",
     "text": [
      "44\n"
     ]
    }
   ],
   "source": [
    "problem_pitching_indices = moneyline_df[(moneyline_df.road_season_WHIP_OR > 7) | \n",
    "                                       (moneyline_df.road_season_ERA_OR > 30) |\n",
    "                                       (moneyline_df.road_career_WHIP_OR > 6) |\n",
    "                                       (moneyline_df.road_career_ERA_OR > 30) |\n",
    "                                       (moneyline_df.home_season_ERA_AH > 30) |\n",
    "                                       (moneyline_df.home_career_WHIP_AH > 6) | \n",
    "                                       (moneyline_df.home_career_ERA_AH > 30)].index\n",
    "print(len(problem_pitching_indices))"
   ]
  },
  {
   "cell_type": "markdown",
   "metadata": {},
   "source": [
    "One of the issues I am working to correct is the model struggles in the beginning of the season. One potential method of correcting this is removing some of the variance in the early season models, which is what I will try here. If that doesn't work, then I will look into factoring in previous season results."
   ]
  },
  {
   "cell_type": "code",
   "execution_count": 12,
   "metadata": {},
   "outputs": [],
   "source": [
    "moneyline_df = moneyline_df.drop(problem_pitching_indices, axis = 0).reset_index(drop = True)"
   ]
  },
  {
   "cell_type": "code",
   "execution_count": 13,
   "metadata": {},
   "outputs": [],
   "source": [
    "def calculate_totalpayout(df):\n",
    "    ''' \n",
    "    Assuming $1.00 bet for simplicity\n",
    "    '''\n",
    "    home_outcome = []\n",
    "    road_outcome = []\n",
    "    for k in range(len(df)):\n",
    "        if df.iloc[k]['home_closing'] < 0:\n",
    "            home_outcome.append(-100.0 / df.iloc[k]['home_closing'] + 1)\n",
    "        else:\n",
    "            home_outcome.append(df.iloc[k]['home_closing'] / 100 + 1)\n",
    "        if df.iloc[k]['road_closing'] < 0:\n",
    "            road_outcome.append(-100.0 / df.iloc[k]['road_closing'] + 1)\n",
    "        else:\n",
    "            road_outcome.append(df.iloc[k]['road_closing'] / 100 + 1)\n",
    "    return(pd.Series(home_outcome), pd.Series(road_outcome))\n",
    "\n",
    "home_payout, road_payout = calculate_totalpayout(moneyline_df)\n",
    "moneyline_df['home_payout'], moneyline_df['road_payout'] = home_payout, road_payout"
   ]
  },
  {
   "cell_type": "code",
   "execution_count": 14,
   "metadata": {},
   "outputs": [],
   "source": [
    "training_data = moneyline_df[moneyline_df.year < 2019].drop(columns = ['date', 'year']).reset_index(drop = True)\n",
    "validation_set = moneyline_df[moneyline_df.year == 2019].drop(columns = ['date', 'year']).reset_index(drop = True)\n",
    "\n",
    "validation_home_closing = validation_set.home_closing\n",
    "validation_road_closing = validation_set.road_closing \n",
    "validation_dates = moneyline_df[moneyline_df.year == 2019].date.reset_index(drop = True)\n",
    "\n",
    "train_features = training_data.drop(columns = ['home_win', 'home_payout', 'road_payout'])\n",
    "train_target = training_data['home_win']\n",
    "train_weights = training_data[['home_payout', 'road_payout']]\n",
    "\n",
    "validation_input = validation_set.drop(columns = ['home_win', 'home_payout', 'road_payout'])\n",
    "validation_target = validation_set['home_win']"
   ]
  },
  {
   "cell_type": "markdown",
   "metadata": {},
   "source": [
    "# Dimensionality reduction\n",
    "Try with current feature set and with normalized features"
   ]
  },
  {
   "cell_type": "code",
   "execution_count": 15,
   "metadata": {},
   "outputs": [
    {
     "data": {
      "image/png": "[encoded data removed]",
      "text/plain": [
       "<Figure size 1080x144 with 1 Axes>"
      ]
     },
     "metadata": {
      "needs_background": "light"
     },
     "output_type": "display_data"
    }
   ],
   "source": [
    "pca = PCA().fit(train_features)\n",
    "\n",
    "plt.figure(figsize = (15, 2))\n",
    "plt.plot(np.cumsum(pca.explained_variance_ratio_))\n",
    "plt.xlabel('number of components')\n",
    "plt.ylabel('cumulative explained variance');"
   ]
  },
  {
   "cell_type": "code",
   "execution_count": 16,
   "metadata": {},
   "outputs": [
    {
     "data": {
      "text/html": [
       "<div>\n",
       "<style scoped>\n",
       "    .dataframe tbody tr th:only-of-type {\n",
       "        vertical-align: middle;\n",
       "    }\n",
       "\n",
       "    .dataframe tbody tr th {\n",
       "        vertical-align: top;\n",
       "    }\n",
       "\n",
       "    .dataframe thead th {\n",
       "        text-align: right;\n",
       "    }\n",
       "</style>\n",
       "<table border=\"1\" class=\"dataframe\">\n",
       "  <thead>\n",
       "    <tr style=\"text-align: right;\">\n",
       "      <th></th>\n",
       "      <th>var_proportion</th>\n",
       "      <th>total_variance_explained</th>\n",
       "    </tr>\n",
       "  </thead>\n",
       "  <tbody>\n",
       "    <tr>\n",
       "      <th>0</th>\n",
       "      <td>8.791073e-01</td>\n",
       "      <td>0.879107</td>\n",
       "    </tr>\n",
       "    <tr>\n",
       "      <th>1</th>\n",
       "      <td>5.363392e-02</td>\n",
       "      <td>0.932741</td>\n",
       "    </tr>\n",
       "    <tr>\n",
       "      <th>2</th>\n",
       "      <td>2.023602e-02</td>\n",
       "      <td>0.952977</td>\n",
       "    </tr>\n",
       "    <tr>\n",
       "      <th>3</th>\n",
       "      <td>1.822969e-02</td>\n",
       "      <td>0.971207</td>\n",
       "    </tr>\n",
       "    <tr>\n",
       "      <th>4</th>\n",
       "      <td>1.428957e-02</td>\n",
       "      <td>0.985497</td>\n",
       "    </tr>\n",
       "    <tr>\n",
       "      <th>5</th>\n",
       "      <td>1.341159e-02</td>\n",
       "      <td>0.998908</td>\n",
       "    </tr>\n",
       "    <tr>\n",
       "      <th>6</th>\n",
       "      <td>2.744626e-04</td>\n",
       "      <td>0.999183</td>\n",
       "    </tr>\n",
       "    <tr>\n",
       "      <th>7</th>\n",
       "      <td>1.873555e-04</td>\n",
       "      <td>0.999370</td>\n",
       "    </tr>\n",
       "    <tr>\n",
       "      <th>8</th>\n",
       "      <td>1.711722e-04</td>\n",
       "      <td>0.999541</td>\n",
       "    </tr>\n",
       "    <tr>\n",
       "      <th>9</th>\n",
       "      <td>1.085541e-04</td>\n",
       "      <td>0.999650</td>\n",
       "    </tr>\n",
       "    <tr>\n",
       "      <th>10</th>\n",
       "      <td>8.166359e-05</td>\n",
       "      <td>0.999731</td>\n",
       "    </tr>\n",
       "    <tr>\n",
       "      <th>11</th>\n",
       "      <td>5.516487e-05</td>\n",
       "      <td>0.999787</td>\n",
       "    </tr>\n",
       "    <tr>\n",
       "      <th>12</th>\n",
       "      <td>4.881607e-05</td>\n",
       "      <td>0.999835</td>\n",
       "    </tr>\n",
       "    <tr>\n",
       "      <th>13</th>\n",
       "      <td>2.898243e-05</td>\n",
       "      <td>0.999864</td>\n",
       "    </tr>\n",
       "    <tr>\n",
       "      <th>14</th>\n",
       "      <td>2.347002e-05</td>\n",
       "      <td>0.999888</td>\n",
       "    </tr>\n",
       "    <tr>\n",
       "      <th>15</th>\n",
       "      <td>2.195876e-05</td>\n",
       "      <td>0.999910</td>\n",
       "    </tr>\n",
       "    <tr>\n",
       "      <th>16</th>\n",
       "      <td>2.114091e-05</td>\n",
       "      <td>0.999931</td>\n",
       "    </tr>\n",
       "    <tr>\n",
       "      <th>17</th>\n",
       "      <td>2.014940e-05</td>\n",
       "      <td>0.999951</td>\n",
       "    </tr>\n",
       "    <tr>\n",
       "      <th>18</th>\n",
       "      <td>1.674254e-05</td>\n",
       "      <td>0.999968</td>\n",
       "    </tr>\n",
       "    <tr>\n",
       "      <th>19</th>\n",
       "      <td>1.575302e-05</td>\n",
       "      <td>0.999984</td>\n",
       "    </tr>\n",
       "    <tr>\n",
       "      <th>20</th>\n",
       "      <td>5.466845e-06</td>\n",
       "      <td>0.999989</td>\n",
       "    </tr>\n",
       "    <tr>\n",
       "      <th>21</th>\n",
       "      <td>4.991911e-06</td>\n",
       "      <td>0.999994</td>\n",
       "    </tr>\n",
       "    <tr>\n",
       "      <th>22</th>\n",
       "      <td>2.191366e-06</td>\n",
       "      <td>0.999996</td>\n",
       "    </tr>\n",
       "    <tr>\n",
       "      <th>23</th>\n",
       "      <td>1.562228e-06</td>\n",
       "      <td>0.999998</td>\n",
       "    </tr>\n",
       "    <tr>\n",
       "      <th>24</th>\n",
       "      <td>1.173788e-06</td>\n",
       "      <td>0.999999</td>\n",
       "    </tr>\n",
       "    <tr>\n",
       "      <th>25</th>\n",
       "      <td>3.388112e-07</td>\n",
       "      <td>0.999999</td>\n",
       "    </tr>\n",
       "    <tr>\n",
       "      <th>26</th>\n",
       "      <td>2.512419e-07</td>\n",
       "      <td>0.999999</td>\n",
       "    </tr>\n",
       "    <tr>\n",
       "      <th>27</th>\n",
       "      <td>2.484726e-07</td>\n",
       "      <td>1.000000</td>\n",
       "    </tr>\n",
       "    <tr>\n",
       "      <th>28</th>\n",
       "      <td>2.259221e-07</td>\n",
       "      <td>1.000000</td>\n",
       "    </tr>\n",
       "    <tr>\n",
       "      <th>29</th>\n",
       "      <td>1.708723e-08</td>\n",
       "      <td>1.000000</td>\n",
       "    </tr>\n",
       "    <tr>\n",
       "      <th>30</th>\n",
       "      <td>1.028670e-08</td>\n",
       "      <td>1.000000</td>\n",
       "    </tr>\n",
       "  </tbody>\n",
       "</table>\n",
       "</div>"
      ],
      "text/plain": [
       "    var_proportion  total_variance_explained\n",
       "0     8.791073e-01                  0.879107\n",
       "1     5.363392e-02                  0.932741\n",
       "2     2.023602e-02                  0.952977\n",
       "3     1.822969e-02                  0.971207\n",
       "4     1.428957e-02                  0.985497\n",
       "5     1.341159e-02                  0.998908\n",
       "6     2.744626e-04                  0.999183\n",
       "7     1.873555e-04                  0.999370\n",
       "8     1.711722e-04                  0.999541\n",
       "9     1.085541e-04                  0.999650\n",
       "10    8.166359e-05                  0.999731\n",
       "11    5.516487e-05                  0.999787\n",
       "12    4.881607e-05                  0.999835\n",
       "13    2.898243e-05                  0.999864\n",
       "14    2.347002e-05                  0.999888\n",
       "15    2.195876e-05                  0.999910\n",
       "16    2.114091e-05                  0.999931\n",
       "17    2.014940e-05                  0.999951\n",
       "18    1.674254e-05                  0.999968\n",
       "19    1.575302e-05                  0.999984\n",
       "20    5.466845e-06                  0.999989\n",
       "21    4.991911e-06                  0.999994\n",
       "22    2.191366e-06                  0.999996\n",
       "23    1.562228e-06                  0.999998\n",
       "24    1.173788e-06                  0.999999\n",
       "25    3.388112e-07                  0.999999\n",
       "26    2.512419e-07                  0.999999\n",
       "27    2.484726e-07                  1.000000\n",
       "28    2.259221e-07                  1.000000\n",
       "29    1.708723e-08                  1.000000\n",
       "30    1.028670e-08                  1.000000"
      ]
     },
     "execution_count": 16,
     "metadata": {},
     "output_type": "execute_result"
    }
   ],
   "source": [
    "explained_variance = pd.DataFrame(pca.explained_variance_ratio_)\n",
    "explained_variance = explained_variance.rename(columns = {0 : 'var_proportion'})\n",
    "\n",
    "explained_variance['total_variance_explained'] = explained_variance.var_proportion.cumsum()\n",
    "explained_variance"
   ]
  },
  {
   "cell_type": "code",
   "execution_count": 17,
   "metadata": {},
   "outputs": [],
   "source": [
    "def feature_scaling(train, validation):\n",
    "    ss = StandardScaler()\n",
    "    col_names = list(train.columns)\n",
    "    ss.fit(train)\n",
    "    npX = ss.transform(train)\n",
    "    npXV = ss.transform(validation)\n",
    "    npX = pd.DataFrame(npX)\n",
    "    npXV = pd.DataFrame(npXV)\n",
    "    npX.columns = col_names\n",
    "    npXV.columns = col_names\n",
    "    return(npX, npXV)"
   ]
  },
  {
   "cell_type": "code",
   "execution_count": 18,
   "metadata": {},
   "outputs": [
    {
     "data": {
      "image/png": "[encoded data removed]",
      "text/plain": [
       "<Figure size 1080x144 with 1 Axes>"
      ]
     },
     "metadata": {
      "needs_background": "light"
     },
     "output_type": "display_data"
    }
   ],
   "source": [
    "scaled_training, scaled_validation = feature_scaling(train_features, validation_input)\n",
    "pca = PCA().fit(scaled_training)\n",
    "\n",
    "plt.figure(figsize = (15, 2))\n",
    "plt.plot(np.cumsum(pca.explained_variance_ratio_))\n",
    "plt.xlabel('number of components')\n",
    "plt.ylabel('cumulative explained variance');"
   ]
  },
  {
   "cell_type": "code",
   "execution_count": 19,
   "metadata": {},
   "outputs": [
    {
     "data": {
      "text/html": [
       "<div>\n",
       "<style scoped>\n",
       "    .dataframe tbody tr th:only-of-type {\n",
       "        vertical-align: middle;\n",
       "    }\n",
       "\n",
       "    .dataframe tbody tr th {\n",
       "        vertical-align: top;\n",
       "    }\n",
       "\n",
       "    .dataframe thead th {\n",
       "        text-align: right;\n",
       "    }\n",
       "</style>\n",
       "<table border=\"1\" class=\"dataframe\">\n",
       "  <thead>\n",
       "    <tr style=\"text-align: right;\">\n",
       "      <th></th>\n",
       "      <th>var_proportion</th>\n",
       "      <th>total_variance_explained</th>\n",
       "    </tr>\n",
       "  </thead>\n",
       "  <tbody>\n",
       "    <tr>\n",
       "      <th>0</th>\n",
       "      <td>0.190345</td>\n",
       "      <td>0.190345</td>\n",
       "    </tr>\n",
       "    <tr>\n",
       "      <th>1</th>\n",
       "      <td>0.155915</td>\n",
       "      <td>0.346260</td>\n",
       "    </tr>\n",
       "    <tr>\n",
       "      <th>2</th>\n",
       "      <td>0.091298</td>\n",
       "      <td>0.437558</td>\n",
       "    </tr>\n",
       "    <tr>\n",
       "      <th>3</th>\n",
       "      <td>0.087076</td>\n",
       "      <td>0.524634</td>\n",
       "    </tr>\n",
       "    <tr>\n",
       "      <th>4</th>\n",
       "      <td>0.070971</td>\n",
       "      <td>0.595605</td>\n",
       "    </tr>\n",
       "    <tr>\n",
       "      <th>5</th>\n",
       "      <td>0.064834</td>\n",
       "      <td>0.660439</td>\n",
       "    </tr>\n",
       "    <tr>\n",
       "      <th>6</th>\n",
       "      <td>0.059929</td>\n",
       "      <td>0.720368</td>\n",
       "    </tr>\n",
       "    <tr>\n",
       "      <th>7</th>\n",
       "      <td>0.047855</td>\n",
       "      <td>0.768223</td>\n",
       "    </tr>\n",
       "    <tr>\n",
       "      <th>8</th>\n",
       "      <td>0.035120</td>\n",
       "      <td>0.803342</td>\n",
       "    </tr>\n",
       "    <tr>\n",
       "      <th>9</th>\n",
       "      <td>0.030324</td>\n",
       "      <td>0.833667</td>\n",
       "    </tr>\n",
       "    <tr>\n",
       "      <th>10</th>\n",
       "      <td>0.024109</td>\n",
       "      <td>0.857775</td>\n",
       "    </tr>\n",
       "    <tr>\n",
       "      <th>11</th>\n",
       "      <td>0.022701</td>\n",
       "      <td>0.880477</td>\n",
       "    </tr>\n",
       "    <tr>\n",
       "      <th>12</th>\n",
       "      <td>0.021106</td>\n",
       "      <td>0.901583</td>\n",
       "    </tr>\n",
       "    <tr>\n",
       "      <th>13</th>\n",
       "      <td>0.011703</td>\n",
       "      <td>0.913285</td>\n",
       "    </tr>\n",
       "    <tr>\n",
       "      <th>14</th>\n",
       "      <td>0.011495</td>\n",
       "      <td>0.924780</td>\n",
       "    </tr>\n",
       "    <tr>\n",
       "      <th>15</th>\n",
       "      <td>0.009742</td>\n",
       "      <td>0.934522</td>\n",
       "    </tr>\n",
       "    <tr>\n",
       "      <th>16</th>\n",
       "      <td>0.007909</td>\n",
       "      <td>0.942431</td>\n",
       "    </tr>\n",
       "    <tr>\n",
       "      <th>17</th>\n",
       "      <td>0.007246</td>\n",
       "      <td>0.949677</td>\n",
       "    </tr>\n",
       "    <tr>\n",
       "      <th>18</th>\n",
       "      <td>0.006892</td>\n",
       "      <td>0.956569</td>\n",
       "    </tr>\n",
       "    <tr>\n",
       "      <th>19</th>\n",
       "      <td>0.006695</td>\n",
       "      <td>0.963263</td>\n",
       "    </tr>\n",
       "    <tr>\n",
       "      <th>20</th>\n",
       "      <td>0.005450</td>\n",
       "      <td>0.968714</td>\n",
       "    </tr>\n",
       "    <tr>\n",
       "      <th>21</th>\n",
       "      <td>0.005310</td>\n",
       "      <td>0.974023</td>\n",
       "    </tr>\n",
       "    <tr>\n",
       "      <th>22</th>\n",
       "      <td>0.004670</td>\n",
       "      <td>0.978694</td>\n",
       "    </tr>\n",
       "    <tr>\n",
       "      <th>23</th>\n",
       "      <td>0.003771</td>\n",
       "      <td>0.982465</td>\n",
       "    </tr>\n",
       "    <tr>\n",
       "      <th>24</th>\n",
       "      <td>0.003296</td>\n",
       "      <td>0.985761</td>\n",
       "    </tr>\n",
       "    <tr>\n",
       "      <th>25</th>\n",
       "      <td>0.003105</td>\n",
       "      <td>0.988865</td>\n",
       "    </tr>\n",
       "    <tr>\n",
       "      <th>26</th>\n",
       "      <td>0.002681</td>\n",
       "      <td>0.991546</td>\n",
       "    </tr>\n",
       "    <tr>\n",
       "      <th>27</th>\n",
       "      <td>0.002656</td>\n",
       "      <td>0.994202</td>\n",
       "    </tr>\n",
       "    <tr>\n",
       "      <th>28</th>\n",
       "      <td>0.002346</td>\n",
       "      <td>0.996548</td>\n",
       "    </tr>\n",
       "    <tr>\n",
       "      <th>29</th>\n",
       "      <td>0.001823</td>\n",
       "      <td>0.998371</td>\n",
       "    </tr>\n",
       "    <tr>\n",
       "      <th>30</th>\n",
       "      <td>0.001629</td>\n",
       "      <td>1.000000</td>\n",
       "    </tr>\n",
       "  </tbody>\n",
       "</table>\n",
       "</div>"
      ],
      "text/plain": [
       "    var_proportion  total_variance_explained\n",
       "0         0.190345                  0.190345\n",
       "1         0.155915                  0.346260\n",
       "2         0.091298                  0.437558\n",
       "3         0.087076                  0.524634\n",
       "4         0.070971                  0.595605\n",
       "5         0.064834                  0.660439\n",
       "6         0.059929                  0.720368\n",
       "7         0.047855                  0.768223\n",
       "8         0.035120                  0.803342\n",
       "9         0.030324                  0.833667\n",
       "10        0.024109                  0.857775\n",
       "11        0.022701                  0.880477\n",
       "12        0.021106                  0.901583\n",
       "13        0.011703                  0.913285\n",
       "14        0.011495                  0.924780\n",
       "15        0.009742                  0.934522\n",
       "16        0.007909                  0.942431\n",
       "17        0.007246                  0.949677\n",
       "18        0.006892                  0.956569\n",
       "19        0.006695                  0.963263\n",
       "20        0.005450                  0.968714\n",
       "21        0.005310                  0.974023\n",
       "22        0.004670                  0.978694\n",
       "23        0.003771                  0.982465\n",
       "24        0.003296                  0.985761\n",
       "25        0.003105                  0.988865\n",
       "26        0.002681                  0.991546\n",
       "27        0.002656                  0.994202\n",
       "28        0.002346                  0.996548\n",
       "29        0.001823                  0.998371\n",
       "30        0.001629                  1.000000"
      ]
     },
     "execution_count": 19,
     "metadata": {},
     "output_type": "execute_result"
    }
   ],
   "source": [
    "explained_variance = pd.DataFrame(pca.explained_variance_ratio_)\n",
    "explained_variance = explained_variance.rename(columns = {0 : 'var_proportion'})\n",
    "\n",
    "explained_variance['total_variance_explained'] = explained_variance.var_proportion.cumsum()\n",
    "explained_variance"
   ]
  },
  {
   "cell_type": "code",
   "execution_count": 20,
   "metadata": {},
   "outputs": [],
   "source": [
    "#reduce dimensions with both scaled and non-scaled features respectively\n",
    "pca5 = PCA(n_components = 5).fit(train_features)\n",
    "pca12 = PCA(n_components = 12).fit(scaled_training)\n",
    "\n",
    "pca5_train = pca5.transform(train_features)\n",
    "pca12_train = pca12.transform(scaled_training)\n",
    "pca5_validation = pca5.transform(validation_input)\n",
    "pca12_validation = pca12.transform(scaled_validation)"
   ]
  },
  {
   "cell_type": "code",
   "execution_count": 21,
   "metadata": {},
   "outputs": [],
   "source": [
    "#convert datatypes for usage in modeling algorithms \n",
    "train_target = np.array(train_target).astype('float32')\n",
    "validation_target = np.array(validation_target).astype('float32')"
   ]
  },
  {
   "cell_type": "markdown",
   "metadata": {},
   "source": [
    "# Baseline Modeling\n",
    "Train several different models and examine best performance before deciding next steps"
   ]
  },
  {
   "cell_type": "code",
   "execution_count": 22,
   "metadata": {},
   "outputs": [],
   "source": [
    "#wrapper class for designing testing neural networks\n",
    "class NeuralNet():\n",
    "    def __init__(self, training, target_train, validation, target_validation, n_hidden = 2, neurons = 50, \n",
    "                 model_checkpoint = False, checkpoint_params = None, early_stopping = False, \n",
    "                 early_stopping_params = None, dropout = True, retention = 0.5, activation = 'relu', \n",
    "                 compile_params = {'optimizer' : 'adam', 'loss' : 'binary_crossentropy', \n",
    "                                   'metrics' : ['binary_accuracy']}, \n",
    "                 fit_params = {'epochs' : 50, 'validation_split' : 0.2, 'verbose' : 0}):\n",
    "        self.training = training\n",
    "        self.target_train = target_train\n",
    "        self.validation = validation\n",
    "        self.target_validation = target_validation\n",
    "        self.n_hidden = n_hidden\n",
    "        self.neurons = neurons\n",
    "        self.model_checkpoint = model_checkpoint\n",
    "        self.checkpoint_params = checkpoint_params\n",
    "        self.early_stopping = early_stopping\n",
    "        self.early_stopping_params = early_stopping_params\n",
    "        self.dropout = dropout\n",
    "        self.retention = retention\n",
    "        self.activation = activation\n",
    "        self.compile_params = compile_params\n",
    "        self.fit_params = fit_params\n",
    "        self.model = None\n",
    "        self.validation_preds = None\n",
    "    \n",
    "    def train_predict(self):\n",
    "        self.create_callbacks()\n",
    "        self.create_architecture()\n",
    "        self.model.compile(**self.compile_params)\n",
    "        self.model.fit(self.training, self.target_train, **self.fit_params)\n",
    "        self.validation_preds = self.model.predict(self.validation)\n",
    "        print('Training complete')\n",
    "    \n",
    "    def create_architecture(self):\n",
    "        n_cols = self.training.shape[1]\n",
    "        self.model = Sequential()\n",
    "        self.model.add(Dense(n_cols, activation = self.activation, input_shape = (n_cols,)))\n",
    "        if self.dropout:\n",
    "            self.model.add(Dropout(1. - self.retention))\n",
    "        for _ in range(self.n_hidden):\n",
    "            if self.dropout:\n",
    "                self.model.add(Dense(self.neurons, activation = self.activation))\n",
    "                self.model.add(Dropout(1. - self.retention))\n",
    "            else:\n",
    "                self.model.add(Dense(self.neurons, activation = self.activation))\n",
    "        self.model.add(Dense(1, activation = 'sigmoid'))\n",
    "        \n",
    "    def create_callbacks(self):\n",
    "        if self.early_stopping and self.model_checkpoint:\n",
    "            early_stopping_monitor = EarlyStopping(**self.early_stopping_params)\n",
    "            model_checkpointer = ModelCheckpoint(**self.checkpoint_params)\n",
    "            self.fit_params.update({'callbacks' : [early_stopping_monitor, model_checkpointer]})\n",
    "        elif self.early_stopping:\n",
    "            early_stopping_monitor = EarlyStopping(**self.early_stopping_params)\n",
    "            self.fit_params_update({'callbacks' : [early_stopping_monitor]})\n",
    "        elif self.model_checkpoint: \n",
    "            model_checkpointer = ModelCheckpoint(**self.checkpoint_params)\n",
    "            self.fit_params.update({'callbacks' : [model_checkpointer]})\n"
   ]
  },
  {
   "cell_type": "code",
   "execution_count": 23,
   "metadata": {},
   "outputs": [
    {
     "name": "stdout",
     "output_type": "stream",
     "text": [
      "Training complete\n"
     ]
    }
   ],
   "source": [
    "#train NeuralNetworks using baseline params\n",
    "nn = NeuralNet(pca5_train, train_target, pca5_validation, validation_target)\n",
    "nn.train_predict()"
   ]
  },
  {
   "cell_type": "code",
   "execution_count": 24,
   "metadata": {},
   "outputs": [],
   "source": [
    "from bankroll_calculator import BankrollCalculator"
   ]
  },
  {
   "cell_type": "code",
   "execution_count": 26,
   "metadata": {},
   "outputs": [
    {
     "data": {
      "image/png": "[encoded data removed]",
      "text/plain": [
       "<Figure size 576x576 with 1 Axes>"
      ]
     },
     "metadata": {
      "needs_background": "light"
     },
     "output_type": "display_data"
    }
   ],
   "source": [
    "bc = BankrollCalculator(nn.validation_preds, validation_target, validation_dates, validation_home_closing,\n",
    "                       validation_road_closing)\n",
    "bc.plot_profit()"
   ]
  },
  {
   "cell_type": "code",
   "execution_count": 34,
   "metadata": {},
   "outputs": [
    {
     "name": "stdout",
     "output_type": "stream",
     "text": [
      "REMINDER! You selected the .play_some method... Extract play indices with .play_indices attr\n"
     ]
    },
    {
     "data": {
      "image/png": "[encoded data removed]",
      "text/plain": [
       "<Figure size 576x576 with 1 Axes>"
      ]
     },
     "metadata": {
      "needs_background": "light"
     },
     "output_type": "display_data"
    }
   ],
   "source": [
    "bc = BankrollCalculator(nn_preds, validation_target, validation_dates, validation_home_closing,\n",
    "                       validation_road_closing, style = 'some')\n",
    "bc.plot_profit()"
   ]
  },
  {
   "cell_type": "code",
   "execution_count": 35,
   "metadata": {},
   "outputs": [
    {
     "name": "stdout",
     "output_type": "stream",
     "text": [
      "Training complete\n"
     ]
    }
   ],
   "source": [
    "#train NeuralNetworks using baseline params\n",
    "nn = NeuralNet(pca12_train, train_target, pca12_validation, validation_target)\n",
    "nn.train_predict()"
   ]
  },
  {
   "cell_type": "code",
   "execution_count": 36,
   "metadata": {},
   "outputs": [
    {
     "data": {
      "image/png": "[encoded data removed]",
      "text/plain": [
       "<Figure size 576x576 with 1 Axes>"
      ]
     },
     "metadata": {
      "needs_background": "light"
     },
     "output_type": "display_data"
    }
   ],
   "source": [
    "bc = BankrollCalculator(nn.validation_preds, validation_target, validation_dates, validation_home_closing,\n",
    "                       validation_road_closing)\n",
    "bc.plot_profit()"
   ]
  },
  {
   "cell_type": "code",
   "execution_count": 37,
   "metadata": {},
   "outputs": [],
   "source": [
    "nn_preds = [i[0] for i in nn.validation_preds]"
   ]
  },
  {
   "cell_type": "code",
   "execution_count": 38,
   "metadata": {},
   "outputs": [
    {
     "name": "stdout",
     "output_type": "stream",
     "text": [
      "REMINDER! You selected the .play_some method... Extract play indices with .play_indices attr\n"
     ]
    },
    {
     "data": {
      "image/png": "[encoded data removed]",
      "text/plain": [
       "<Figure size 576x576 with 1 Axes>"
      ]
     },
     "metadata": {
      "needs_background": "light"
     },
     "output_type": "display_data"
    }
   ],
   "source": [
    "bc = BankrollCalculator(nn_preds, validation_target, validation_dates, validation_home_closing,\n",
    "                       validation_road_closing, style = 'some')\n",
    "bc.plot_profit()"
   ]
  },
  {
   "cell_type": "markdown",
   "metadata": {},
   "source": [
    "Custom objective function"
   ]
  },
  {
   "cell_type": "code",
   "execution_count": 39,
   "metadata": {},
   "outputs": [],
   "source": [
    "def gambling_loss(odds1, odds2):\n",
    "    ''' House callable for neural network here'''\n",
    "    O1 = K.constant(odds1)\n",
    "    O2 = K.constant(odds2)\n",
    "    _one = K.constant(1)\n",
    "    def loss(ytrue, ypreds):\n",
    "        return(-K.sum((O1*ytrue - _one)*K.relu((O1*ypreds)- _one) +\n",
    "         (O2*(_one-ytrue) - _one)*K.relu(O2*(_one - ypreds) - _one)) )\n",
    "    return(loss)"
   ]
  },
  {
   "cell_type": "code",
   "execution_count": 40,
   "metadata": {},
   "outputs": [
    {
     "data": {
      "text/plain": [
       "1.007"
      ]
     },
     "execution_count": 40,
     "metadata": {},
     "output_type": "execute_result"
    }
   ],
   "source": []
  },
  {
   "cell_type": "code",
   "execution_count": 41,
   "metadata": {},
   "outputs": [
    {
     "data": {
      "text/plain": [
       "1.9"
      ]
     },
     "execution_count": 41,
     "metadata": {},
     "output_type": "execute_result"
    }
   ],
   "source": [
    "1.007 + (1.90 * 0.47)"
   ]
  },
  {
   "cell_type": "code",
   "execution_count": null,
   "metadata": {},
   "outputs": [],
   "source": []
  }
 ],
 "metadata": {
  "kernelspec": {
   "display_name": "Python 3",
   "language": "python",
   "name": "python3"
  },
  "language_info": {
   "codemirror_mode": {
    "name": "ipython",
    "version": 3
   },
   "file_extension": ".py",
   "mimetype": "text/x-python",
   "name": "python",
   "nbconvert_exporter": "python",
   "pygments_lexer": "ipython3",
   "version": "3.7.3"
  }
 },
 "nbformat": 4,
 "nbformat_minor": 2
}

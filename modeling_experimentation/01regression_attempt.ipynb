{
 "cells": [
  {
   "cell_type": "code",
   "execution_count": 22,
   "metadata": {},
   "outputs": [],
   "source": [
    "import pandas as pd\n",
    "import numpy as np\n",
    "from sklearn.dummy import DummyRegressor\n",
    "from sklearn.linear_model import LinearRegression, ElasticNet, SGDRegressor, Lasso, Ridge\n",
    "from sklearn.model_selection import train_test_split, GridSearchCV, cross_val_score, KFold, StratifiedShuffleSplit,\\\n",
    "RandomizedSearchCV\n",
    "from sklearn.metrics import mean_squared_error, explained_variance_score, r2_score\n",
    "import xgboost as xgb\n",
    "from hyperopt import fmin, tpe, hp, STATUS_OK, Trials\n",
    "from hyperopt.pyll import scope\n",
    "from hyperopt.pyll.stochastic import sample"
   ]
  },
  {
   "cell_type": "code",
   "execution_count": 2,
   "metadata": {},
   "outputs": [],
   "source": [
    "#read in prepared dataset from EDA.ipynb notebook\n",
    "mlb_df = pd.read_csv('model_ready_.csv.gz', compression = 'gzip')"
   ]
  },
  {
   "cell_type": "code",
   "execution_count": 3,
   "metadata": {},
   "outputs": [
    {
     "data": {
      "text/html": [
       "<div>\n",
       "<style scoped>\n",
       "    .dataframe tbody tr th:only-of-type {\n",
       "        vertical-align: middle;\n",
       "    }\n",
       "\n",
       "    .dataframe tbody tr th {\n",
       "        vertical-align: top;\n",
       "    }\n",
       "\n",
       "    .dataframe thead th {\n",
       "        text-align: right;\n",
       "    }\n",
       "</style>\n",
       "<table border=\"1\" class=\"dataframe\">\n",
       "  <thead>\n",
       "    <tr style=\"text-align: right;\">\n",
       "      <th></th>\n",
       "      <th>pitcher2_rgs</th>\n",
       "      <th>pitcher1_rgs</th>\n",
       "      <th>rating_prob1</th>\n",
       "      <th>pitcher1_adj</th>\n",
       "      <th>pitcher2_adj</th>\n",
       "      <th>run_differential_hm</th>\n",
       "      <th>rating1_pre</th>\n",
       "      <th>run_differential_rd</th>\n",
       "      <th>rating2_pre</th>\n",
       "      <th>TMAX</th>\n",
       "      <th>attendance</th>\n",
       "      <th>pitching_park_factor</th>\n",
       "      <th>...</th>\n",
       "      <th>PRCP</th>\n",
       "      <th>current_streak_rd_tm</th>\n",
       "      <th>current_streak_hm_tm</th>\n",
       "      <th>avg_margin_rd</th>\n",
       "      <th>current_streak_hm_at_hm</th>\n",
       "      <th>avg_margin_hm</th>\n",
       "      <th>is_liveball</th>\n",
       "      <th>is_FA</th>\n",
       "      <th>is_daygame</th>\n",
       "      <th>is_integration</th>\n",
       "      <th>is_deadball</th>\n",
       "      <th>score_differential</th>\n",
       "    </tr>\n",
       "  </thead>\n",
       "  <tbody>\n",
       "    <tr>\n",
       "      <th>0</th>\n",
       "      <td>-0.140582</td>\n",
       "      <td>-0.968011</td>\n",
       "      <td>-0.243000</td>\n",
       "      <td>-0.002938</td>\n",
       "      <td>-0.007462</td>\n",
       "      <td>-0.162090</td>\n",
       "      <td>-0.026615</td>\n",
       "      <td>0.132497</td>\n",
       "      <td>0.343735</td>\n",
       "      <td>-0.757834</td>\n",
       "      <td>-0.487611</td>\n",
       "      <td>-0.448150</td>\n",
       "      <td>...</td>\n",
       "      <td>0.0</td>\n",
       "      <td>0.230927</td>\n",
       "      <td>-0.026751</td>\n",
       "      <td>0.088201</td>\n",
       "      <td>-0.132420</td>\n",
       "      <td>-0.086008</td>\n",
       "      <td>0.0</td>\n",
       "      <td>0.0</td>\n",
       "      <td>1</td>\n",
       "      <td>0.0</td>\n",
       "      <td>1.0</td>\n",
       "      <td>0.669243</td>\n",
       "    </tr>\n",
       "    <tr>\n",
       "      <th>1</th>\n",
       "      <td>-0.710888</td>\n",
       "      <td>0.006553</td>\n",
       "      <td>0.252994</td>\n",
       "      <td>-0.003285</td>\n",
       "      <td>-0.007898</td>\n",
       "      <td>-0.162090</td>\n",
       "      <td>1.264020</td>\n",
       "      <td>0.132497</td>\n",
       "      <td>0.894793</td>\n",
       "      <td>-0.371693</td>\n",
       "      <td>-0.630211</td>\n",
       "      <td>2.415975</td>\n",
       "      <td>...</td>\n",
       "      <td>0.0</td>\n",
       "      <td>0.230927</td>\n",
       "      <td>-0.026751</td>\n",
       "      <td>0.088201</td>\n",
       "      <td>-0.132420</td>\n",
       "      <td>-0.086008</td>\n",
       "      <td>0.0</td>\n",
       "      <td>0.0</td>\n",
       "      <td>1</td>\n",
       "      <td>0.0</td>\n",
       "      <td>1.0</td>\n",
       "      <td>-0.508597</td>\n",
       "    </tr>\n",
       "    <tr>\n",
       "      <th>2</th>\n",
       "      <td>0.007053</td>\n",
       "      <td>-0.714184</td>\n",
       "      <td>-1.188872</td>\n",
       "      <td>-0.000870</td>\n",
       "      <td>-0.004514</td>\n",
       "      <td>-0.162090</td>\n",
       "      <td>-0.769264</td>\n",
       "      <td>0.132497</td>\n",
       "      <td>1.024317</td>\n",
       "      <td>-2.319949</td>\n",
       "      <td>-0.273710</td>\n",
       "      <td>-0.668467</td>\n",
       "      <td>...</td>\n",
       "      <td>0.0</td>\n",
       "      <td>0.230927</td>\n",
       "      <td>-0.026751</td>\n",
       "      <td>0.088201</td>\n",
       "      <td>-0.132420</td>\n",
       "      <td>-0.086008</td>\n",
       "      <td>0.0</td>\n",
       "      <td>0.0</td>\n",
       "      <td>1</td>\n",
       "      <td>0.0</td>\n",
       "      <td>1.0</td>\n",
       "      <td>-0.273029</td>\n",
       "    </tr>\n",
       "    <tr>\n",
       "      <th>3</th>\n",
       "      <td>0.006954</td>\n",
       "      <td>0.004049</td>\n",
       "      <td>0.267979</td>\n",
       "      <td>-0.001778</td>\n",
       "      <td>-0.004704</td>\n",
       "      <td>-0.162090</td>\n",
       "      <td>0.426835</td>\n",
       "      <td>0.132497</td>\n",
       "      <td>0.089025</td>\n",
       "      <td>-1.337045</td>\n",
       "      <td>-0.487611</td>\n",
       "      <td>-0.227833</td>\n",
       "      <td>...</td>\n",
       "      <td>0.0</td>\n",
       "      <td>0.230927</td>\n",
       "      <td>-0.026751</td>\n",
       "      <td>0.088201</td>\n",
       "      <td>-0.132420</td>\n",
       "      <td>-0.086008</td>\n",
       "      <td>0.0</td>\n",
       "      <td>0.0</td>\n",
       "      <td>1</td>\n",
       "      <td>0.0</td>\n",
       "      <td>1.0</td>\n",
       "      <td>-0.744165</td>\n",
       "    </tr>\n",
       "    <tr>\n",
       "      <th>4</th>\n",
       "      <td>0.004580</td>\n",
       "      <td>0.004351</td>\n",
       "      <td>-1.272155</td>\n",
       "      <td>-0.002941</td>\n",
       "      <td>-0.003425</td>\n",
       "      <td>-0.186952</td>\n",
       "      <td>-0.800985</td>\n",
       "      <td>0.157245</td>\n",
       "      <td>1.056050</td>\n",
       "      <td>-2.021568</td>\n",
       "      <td>-1.152412</td>\n",
       "      <td>-0.668467</td>\n",
       "      <td>...</td>\n",
       "      <td>0.0</td>\n",
       "      <td>0.685557</td>\n",
       "      <td>-0.437490</td>\n",
       "      <td>1.082324</td>\n",
       "      <td>-0.516648</td>\n",
       "      <td>-1.088560</td>\n",
       "      <td>0.0</td>\n",
       "      <td>0.0</td>\n",
       "      <td>1</td>\n",
       "      <td>0.0</td>\n",
       "      <td>1.0</td>\n",
       "      <td>0.904811</td>\n",
       "    </tr>\n",
       "  </tbody>\n",
       "</table>\n",
       "<p>5 rows × 27 columns</p>\n",
       "</div>"
      ],
      "text/plain": [
       "   pitcher2_rgs  pitcher1_rgs  rating_prob1  pitcher1_adj  pitcher2_adj  \\\n",
       "0     -0.140582     -0.968011     -0.243000     -0.002938     -0.007462   \n",
       "1     -0.710888      0.006553      0.252994     -0.003285     -0.007898   \n",
       "2      0.007053     -0.714184     -1.188872     -0.000870     -0.004514   \n",
       "3      0.006954      0.004049      0.267979     -0.001778     -0.004704   \n",
       "4      0.004580      0.004351     -1.272155     -0.002941     -0.003425   \n",
       "\n",
       "   run_differential_hm  rating1_pre  run_differential_rd  rating2_pre  \\\n",
       "0            -0.162090    -0.026615             0.132497     0.343735   \n",
       "1            -0.162090     1.264020             0.132497     0.894793   \n",
       "2            -0.162090    -0.769264             0.132497     1.024317   \n",
       "3            -0.162090     0.426835             0.132497     0.089025   \n",
       "4            -0.186952    -0.800985             0.157245     1.056050   \n",
       "\n",
       "       TMAX  attendance  pitching_park_factor  ...  PRCP  \\\n",
       "0 -0.757834   -0.487611             -0.448150  ...   0.0   \n",
       "1 -0.371693   -0.630211              2.415975  ...   0.0   \n",
       "2 -2.319949   -0.273710             -0.668467  ...   0.0   \n",
       "3 -1.337045   -0.487611             -0.227833  ...   0.0   \n",
       "4 -2.021568   -1.152412             -0.668467  ...   0.0   \n",
       "\n",
       "   current_streak_rd_tm  current_streak_hm_tm  avg_margin_rd  \\\n",
       "0              0.230927             -0.026751       0.088201   \n",
       "1              0.230927             -0.026751       0.088201   \n",
       "2              0.230927             -0.026751       0.088201   \n",
       "3              0.230927             -0.026751       0.088201   \n",
       "4              0.685557             -0.437490       1.082324   \n",
       "\n",
       "   current_streak_hm_at_hm  avg_margin_hm  is_liveball  is_FA  is_daygame  \\\n",
       "0                -0.132420      -0.086008          0.0    0.0           1   \n",
       "1                -0.132420      -0.086008          0.0    0.0           1   \n",
       "2                -0.132420      -0.086008          0.0    0.0           1   \n",
       "3                -0.132420      -0.086008          0.0    0.0           1   \n",
       "4                -0.516648      -1.088560          0.0    0.0           1   \n",
       "\n",
       "   is_integration  is_deadball  score_differential  \n",
       "0             0.0          1.0            0.669243  \n",
       "1             0.0          1.0           -0.508597  \n",
       "2             0.0          1.0           -0.273029  \n",
       "3             0.0          1.0           -0.744165  \n",
       "4             0.0          1.0            0.904811  \n",
       "\n",
       "[5 rows x 27 columns]"
      ]
     },
     "execution_count": 3,
     "metadata": {},
     "output_type": "execute_result"
    }
   ],
   "source": [
    "pd.set_option('max.columns', 25)\n",
    "mlb_df.head()"
   ]
  },
  {
   "cell_type": "code",
   "execution_count": 4,
   "metadata": {},
   "outputs": [],
   "source": [
    "#isolate target feature\n",
    "X, y = mlb_df.drop(columns = ['score_differential']), mlb_df['score_differential']\n",
    "#split into train/test sets \n",
    "x_train, x_test, y_train, y_test = train_test_split(X, y, test_size = 0.2, random_state = 42)"
   ]
  },
  {
   "cell_type": "code",
   "execution_count": 5,
   "metadata": {},
   "outputs": [],
   "source": [
    "#create RMSE metric to evaluate regression\n",
    "def get_metrics(y_true, y_pred):\n",
    "    RMSE = np.sqrt(mean_squared_error(y_true, y_pred))\n",
    "    EV = explained_variance_score(y_true, y_pred)\n",
    "    R2 = r2_score(y_true, y_pred)\n",
    "    return({'RMSE' : RMSE, 'explained_variance' : EV, 'r2_score' : R2})"
   ]
  },
  {
   "cell_type": "code",
   "execution_count": 17,
   "metadata": {},
   "outputs": [
    {
     "name": "stdout",
     "output_type": "stream",
     "text": [
      "The RMSE for the baseline model is: 0.9935870965647374.\n",
      "The explained_variance for the baseline model is: 0.0.\n",
      "The r2_score for the baseline model is: -2.6410170201884853e-06.\n"
     ]
    }
   ],
   "source": [
    "#create baseline model to always predict mean\n",
    "dummy_mean = DummyRegressor(strategy = 'mean')\n",
    "#fit dummy regressor\n",
    "dummy_mean.fit(x_train, y_train)\n",
    "#predict on test set\n",
    "dummy_pred = dummy_mean.predict(x_test)\n",
    "#get metrics\n",
    "baseline_metrics = get_metrics(y_test, dummy_pred)\n",
    "for metric in baseline_metrics.keys():\n",
    "    print('The {} for the baseline model is: {}.'.format(metric, baseline_metrics[metric]))"
   ]
  },
  {
   "cell_type": "code",
   "execution_count": 18,
   "metadata": {},
   "outputs": [
    {
     "name": "stdout",
     "output_type": "stream",
     "text": [
      "The RMSE for the Linear Regression model is 0.9749089030246673.\n",
      "The explained_variance for the Linear Regression model is 0.03724859402298397.\n",
      "The r2_score for the Linear Regression model is 0.037241560607933266.\n"
     ]
    }
   ],
   "source": [
    "#train basic linear regression model \n",
    "lm = LinearRegression()\n",
    "lm.fit(x_train, y_train)\n",
    "#predict on test set\n",
    "lm_pred = lm.predict(x_test)\n",
    "#get metrics\n",
    "lm_metrics = get_metrics(y_test, lm_pred)\n",
    "for metric in lm_metrics.keys():\n",
    "    print('The {} for the Linear Regression model is {}.'.format(metric, lm_metrics[metric]))"
   ]
  },
  {
   "cell_type": "code",
   "execution_count": 22,
   "metadata": {},
   "outputs": [
    {
     "data": {
      "text/html": [
       "<div>\n",
       "<style scoped>\n",
       "    .dataframe tbody tr th:only-of-type {\n",
       "        vertical-align: middle;\n",
       "    }\n",
       "\n",
       "    .dataframe tbody tr th {\n",
       "        vertical-align: top;\n",
       "    }\n",
       "\n",
       "    .dataframe thead th {\n",
       "        text-align: right;\n",
       "    }\n",
       "</style>\n",
       "<table border=\"1\" class=\"dataframe\">\n",
       "  <thead>\n",
       "    <tr style=\"text-align: right;\">\n",
       "      <th></th>\n",
       "      <th>0</th>\n",
       "      <th>RMSE</th>\n",
       "      <th>explained_variance</th>\n",
       "      <th>r2_score</th>\n",
       "    </tr>\n",
       "  </thead>\n",
       "  <tbody>\n",
       "    <tr>\n",
       "      <th>0</th>\n",
       "      <td>L1_Regularizatiion</td>\n",
       "      <td>0.993587</td>\n",
       "      <td>0.000000</td>\n",
       "      <td>-0.000003</td>\n",
       "    </tr>\n",
       "    <tr>\n",
       "      <th>1</th>\n",
       "      <td>L2_Regularization</td>\n",
       "      <td>0.974909</td>\n",
       "      <td>0.037249</td>\n",
       "      <td>0.037242</td>\n",
       "    </tr>\n",
       "    <tr>\n",
       "      <th>2</th>\n",
       "      <td>Elastic_Net</td>\n",
       "      <td>0.993587</td>\n",
       "      <td>0.000000</td>\n",
       "      <td>-0.000003</td>\n",
       "    </tr>\n",
       "    <tr>\n",
       "      <th>3</th>\n",
       "      <td>SGDRegressor</td>\n",
       "      <td>0.976814</td>\n",
       "      <td>0.033483</td>\n",
       "      <td>0.033475</td>\n",
       "    </tr>\n",
       "  </tbody>\n",
       "</table>\n",
       "</div>"
      ],
      "text/plain": [
       "                    0      RMSE  explained_variance  r2_score\n",
       "0  L1_Regularizatiion  0.993587            0.000000 -0.000003\n",
       "1   L2_Regularization  0.974909            0.037249  0.037242\n",
       "2         Elastic_Net  0.993587            0.000000 -0.000003\n",
       "3        SGDRegressor  0.976814            0.033483  0.033475"
      ]
     },
     "execution_count": 22,
     "metadata": {},
     "output_type": "execute_result"
    }
   ],
   "source": [
    "#create list of linear models to iterate through\n",
    "algorithms = [\n",
    "    (\"L1_Regularizatiion\", Lasso(selection = 'random', random_state = 42)),\n",
    "    (\"L2_Regularization\", Ridge(solver = 'auto', random_state = 42)),\n",
    "    (\"Elastic_Net\", ElasticNet(selection = 'random', random_state = 42)),\n",
    "    (\"SGDRegressor\", SGDRegressor(loss = 'squared_loss', penalty = 'l2', l1_ratio = 0.2, random_state = 42))\n",
    "]\n",
    "#iterate through algorithms, evaluate metrics\n",
    "eval_metrics = []\n",
    "index_list = []\n",
    "for name, algorithm in algorithms:\n",
    "    model = algorithm.fit(x_train, y_train)\n",
    "    y_pred = model.predict(x_test)\n",
    "    metrics = get_metrics(y_test, y_pred)\n",
    "    eval_metrics.append(metrics)\n",
    "    index_list.append(name)\n",
    "\n",
    "idx = pd.Series(index_list)\n",
    "eval_df = pd.DataFrame(eval_metrics)\n",
    "#view results\n",
    "pd.concat([idx, eval_df], axis = 1)"
   ]
  },
  {
   "cell_type": "code",
   "execution_count": 45,
   "metadata": {},
   "outputs": [],
   "source": [
    "#create parameter space for XGBoost algorithm\n",
    "def xgb_optimize(x_train, y_train, num_eval):\n",
    "    xgb_space = {'objective' : 'reg:squarederror',\n",
    "            'verbosity' : 0,\n",
    "            'booster' : 'gbtree',\n",
    "            'max_depth' : scope.int(hp.quniform('max_depth', 3, 10, 1)),\n",
    "            'gamma' : hp.uniform('gamma', 0, 0.5),\n",
    "            'n_estimators' : scope.int(hp.quniform('n_estimators', 100, 1000, 100)),\n",
    "            'min_child_weight' : scope.int(hp.quniform('min_child_weight', 1, 6, 1)),\n",
    "            'subsample' : hp.uniform('subsample', 0.5, 0.8),\n",
    "            'colsample_bytree' : hp.uniform('colsample_bytree', 0.5, 0.8),\n",
    "            'learning_rate' : hp.uniform('learning_rate', 0.01, 0.2),\n",
    "            'random_state' : 43\n",
    "                }\n",
    "    dtrain = xgb.DMatrix(x_train, label = y_train)\n",
    "    \n",
    "    def xgb_objective(params):\n",
    "        xbr = xgb.XGBRegressor(**params)\n",
    "        current_params = xbr.get_xgb_params()\n",
    "        cv_results = xgb.cv(current_params, dtrain, num_boost_round = xbr.get_params()['n_estimators'],\n",
    "                           nfold = 5, metrics = 'rmse', early_stopping_rounds = 50)\n",
    "        score = cv_results.iloc[-1]['test-rmse-mean']\n",
    "        return({'loss' : score, 'status' : STATUS_OK})\n",
    "    \n",
    "    trials = Trials()\n",
    "    \n",
    "    best_params = fmin(xgb_objective, xgb_space, algo = tpe.suggest, max_evals = num_eval, trials = trials)\n",
    "    \n",
    "    return(best_params)"
   ]
  },
  {
   "cell_type": "code",
   "execution_count": 46,
   "metadata": {},
   "outputs": [
    {
     "name": "stdout",
     "output_type": "stream",
     "text": [
      "100%|██████████| 10/10 [37:19<00:00, 223.96s/it, best loss: 0.9819866000000002]\n"
     ]
    }
   ],
   "source": [
    "best_params = xgb_optimize(x_train, y_train, 10)"
   ]
  },
  {
   "cell_type": "code",
   "execution_count": 47,
   "metadata": {},
   "outputs": [
    {
     "data": {
      "text/plain": [
       "{'colsample_bytree': 0.6194228466063548,\n",
       " 'gamma': 0.3262944616419851,\n",
       " 'learning_rate': 0.012090211212838623,\n",
       " 'max_depth': 5.0,\n",
       " 'min_child_weight': 2.0,\n",
       " 'n_estimators': 700.0,\n",
       " 'subsample': 0.7348817995646493}"
      ]
     },
     "execution_count": 47,
     "metadata": {},
     "output_type": "execute_result"
    }
   ],
   "source": [
    "best_params"
   ]
  },
  {
   "cell_type": "code",
   "execution_count": 9,
   "metadata": {},
   "outputs": [
    {
     "data": {
      "text/plain": [
       "XGBRegressor(base_score=0.5, booster='gbtree', colsample_bylevel=1,\n",
       "             colsample_bynode=1, colsample_bytree=0.6, gamma=0.3,\n",
       "             importance_type='gain', learning_rate=0.01, max_delta_step=0,\n",
       "             max_depth=5, min_child_weight=2, missing=None, n_estimators=700,\n",
       "             n_jobs=1, nthread=None, objective='reg:squarederror',\n",
       "             random_state=42, reg_alpha=0, reg_lambda=1, scale_pos_weight=1,\n",
       "             seed=None, silent=None, subsample=0.75, verbosity=1)"
      ]
     },
     "execution_count": 9,
     "metadata": {},
     "output_type": "execute_result"
    }
   ],
   "source": [
    "#fit XGBRegressor using tuned parameters\n",
    "XGR = xgb.XGBRegressor(objective = 'reg:squarederror',\n",
    "                       colsample_bytree = 0.6, gamma = 0.3, learning_rate = 0.01, max_depth = 5,\n",
    "                      min_child_weight = 2, n_estimators = 700, subsample = 0.75, random_state = 42)\n",
    "\n",
    "XGR.fit(x_train, y_train)"
   ]
  },
  {
   "cell_type": "code",
   "execution_count": 10,
   "metadata": {},
   "outputs": [],
   "source": [
    "#generate predictions\n",
    "y_preds = XGR.predict(x_test)"
   ]
  },
  {
   "cell_type": "code",
   "execution_count": 11,
   "metadata": {},
   "outputs": [],
   "source": [
    "xgb_metrics = get_metrics(y_test, y_preds)"
   ]
  },
  {
   "cell_type": "code",
   "execution_count": 13,
   "metadata": {},
   "outputs": [
    {
     "data": {
      "text/plain": [
       "{'RMSE': 0.9746478808425186,\n",
       " 'explained_variance': 0.037765028523061295,\n",
       " 'r2_score': 0.03775702962506289}"
      ]
     },
     "execution_count": 13,
     "metadata": {},
     "output_type": "execute_result"
    }
   ],
   "source": [
    "xgb_metrics"
   ]
  },
  {
   "cell_type": "markdown",
   "metadata": {},
   "source": [
    "Even though I did I great deal of EDA in the previous notebooks, these results are so bad I need to go back into the data. I will check the selected features for multicollinearity by using the Variance Inflation Factor."
   ]
  },
  {
   "cell_type": "code",
   "execution_count": 10,
   "metadata": {},
   "outputs": [],
   "source": [
    "from statsmodels.stats.outliers_influence import variance_inflation_factor\n",
    "from statsmodels.tools.tools import add_constant"
   ]
  },
  {
   "cell_type": "code",
   "execution_count": 11,
   "metadata": {},
   "outputs": [],
   "source": [
    "#VIF calculation requires a column of constants to be added to the independent variable matrix. \n",
    "X_vif = add_constant(X.values)"
   ]
  },
  {
   "cell_type": "code",
   "execution_count": 12,
   "metadata": {},
   "outputs": [],
   "source": [
    "#calculate the VIF for each column\n",
    "VIF = pd.Series([variance_inflation_factor(X.values, i) for i in range(X.shape[1])], index=X.columns)"
   ]
  },
  {
   "cell_type": "code",
   "execution_count": 13,
   "metadata": {},
   "outputs": [
    {
     "data": {
      "text/plain": [
       "pitcher2_rgs                    1.240140\n",
       "pitcher1_rgs                    1.258849\n",
       "rating_prob1                  508.310143\n",
       "pitcher1_adj                   12.961734\n",
       "pitcher2_adj                   12.877430\n",
       "run_differential_hm             2.649079\n",
       "rating1_pre                   230.612614\n",
       "run_differential_rd             2.695146\n",
       "rating2_pre                   230.257557\n",
       "TMAX                            1.034679\n",
       "attendance                      1.494466\n",
       "pitching_park_factor            1.318674\n",
       "elevation                       1.303063\n",
       "distance_traveled               1.041233\n",
       "current_streak_rd_tm_on_rd      2.450703\n",
       "PRCP                            1.056936\n",
       "current_streak_rd_tm            2.270183\n",
       "current_streak_hm_tm            3.189502\n",
       "avg_margin_rd                   1.691734\n",
       "current_streak_hm_at_hm         3.154301\n",
       "avg_margin_hm                   1.671766\n",
       "is_liveball                     1.845399\n",
       "is_FA                           1.128220\n",
       "is_daygame                      2.591353\n",
       "is_integration                  1.352715\n",
       "is_deadball                     1.808475\n",
       "dtype: float64"
      ]
     },
     "execution_count": 13,
     "metadata": {},
     "output_type": "execute_result"
    }
   ],
   "source": [
    "VIF"
   ]
  },
  {
   "cell_type": "code",
   "execution_count": 14,
   "metadata": {},
   "outputs": [],
   "source": [
    "#return list of features where VIF is alarmingly high\n",
    "problem_VIF = list(VIF[VIF.values > 10].index)"
   ]
  },
  {
   "cell_type": "code",
   "execution_count": 15,
   "metadata": {},
   "outputs": [
    {
     "data": {
      "text/plain": [
       "['rating_prob1', 'pitcher1_adj', 'pitcher2_adj', 'rating1_pre', 'rating2_pre']"
      ]
     },
     "execution_count": 15,
     "metadata": {},
     "output_type": "execute_result"
    }
   ],
   "source": [
    "problem_VIF"
   ]
  },
  {
   "cell_type": "code",
   "execution_count": 16,
   "metadata": {},
   "outputs": [],
   "source": [
    "X_red = X.drop(columns = problem_VIF)"
   ]
  },
  {
   "cell_type": "code",
   "execution_count": 17,
   "metadata": {},
   "outputs": [],
   "source": [
    "x_train_n, x_test_n, y_train_n, y_test_n = train_test_split(X_red, y, test_size = 0.2, random_state = 43)"
   ]
  },
  {
   "cell_type": "code",
   "execution_count": 24,
   "metadata": {},
   "outputs": [
    {
     "name": "stdout",
     "output_type": "stream",
     "text": [
      "The RMSE for the Linear Regression model is 0.9805785877290607.\n",
      "The explained_variance for the Linear Regression model is 0.027930291477181513.\n",
      "The r2_score for the Linear Regression model is 0.027911809012416855.\n"
     ]
    }
   ],
   "source": [
    "#train basic linear regression model \n",
    "lm = LinearRegression()\n",
    "lm.fit(x_train_n, y_train_n)\n",
    "#predict on test set\n",
    "lm_pred = lm.predict(x_test_n)\n",
    "#get metrics\n",
    "lm_metrics = get_metrics(y_test_n, lm_pred)\n",
    "for metric in lm_metrics.keys():\n",
    "    print('The {} for the Linear Regression model is {}.'.format(metric, lm_metrics[metric]))"
   ]
  },
  {
   "cell_type": "code",
   "execution_count": 25,
   "metadata": {},
   "outputs": [
    {
     "data": {
      "text/html": [
       "<div>\n",
       "<style scoped>\n",
       "    .dataframe tbody tr th:only-of-type {\n",
       "        vertical-align: middle;\n",
       "    }\n",
       "\n",
       "    .dataframe tbody tr th {\n",
       "        vertical-align: top;\n",
       "    }\n",
       "\n",
       "    .dataframe thead th {\n",
       "        text-align: right;\n",
       "    }\n",
       "</style>\n",
       "<table border=\"1\" class=\"dataframe\">\n",
       "  <thead>\n",
       "    <tr style=\"text-align: right;\">\n",
       "      <th></th>\n",
       "      <th>0</th>\n",
       "      <th>RMSE</th>\n",
       "      <th>explained_variance</th>\n",
       "      <th>r2_score</th>\n",
       "    </tr>\n",
       "  </thead>\n",
       "  <tbody>\n",
       "    <tr>\n",
       "      <th>0</th>\n",
       "      <td>L1_Regularizatiion</td>\n",
       "      <td>0.994566</td>\n",
       "      <td>0.000000</td>\n",
       "      <td>-0.000019</td>\n",
       "    </tr>\n",
       "    <tr>\n",
       "      <th>1</th>\n",
       "      <td>L2_Regularization</td>\n",
       "      <td>0.980579</td>\n",
       "      <td>0.027930</td>\n",
       "      <td>0.027912</td>\n",
       "    </tr>\n",
       "    <tr>\n",
       "      <th>2</th>\n",
       "      <td>Elastic_Net</td>\n",
       "      <td>0.994566</td>\n",
       "      <td>0.000000</td>\n",
       "      <td>-0.000019</td>\n",
       "    </tr>\n",
       "    <tr>\n",
       "      <th>3</th>\n",
       "      <td>SGDRegressor</td>\n",
       "      <td>0.981472</td>\n",
       "      <td>0.026283</td>\n",
       "      <td>0.026140</td>\n",
       "    </tr>\n",
       "  </tbody>\n",
       "</table>\n",
       "</div>"
      ],
      "text/plain": [
       "                    0      RMSE  explained_variance  r2_score\n",
       "0  L1_Regularizatiion  0.994566            0.000000 -0.000019\n",
       "1   L2_Regularization  0.980579            0.027930  0.027912\n",
       "2         Elastic_Net  0.994566            0.000000 -0.000019\n",
       "3        SGDRegressor  0.981472            0.026283  0.026140"
      ]
     },
     "execution_count": 25,
     "metadata": {},
     "output_type": "execute_result"
    }
   ],
   "source": [
    "#create list of linear models to iterate through\n",
    "algorithms = [\n",
    "    (\"L1_Regularizatiion\", Lasso(selection = 'random', random_state = 42)),\n",
    "    (\"L2_Regularization\", Ridge(solver = 'auto', random_state = 42)),\n",
    "    (\"Elastic_Net\", ElasticNet(selection = 'random', random_state = 42)),\n",
    "    (\"SGDRegressor\", SGDRegressor(loss = 'squared_loss', penalty = 'l2', l1_ratio = 0.2, random_state = 42))\n",
    "]\n",
    "#iterate through algorithms, evaluate metrics\n",
    "eval_metrics = []\n",
    "index_list = []\n",
    "for name, algorithm in algorithms:\n",
    "    model = algorithm.fit(x_train_n, y_train_n)\n",
    "    y_pred = model.predict(x_test_n)\n",
    "    metrics = get_metrics(y_test_n, y_pred)\n",
    "    eval_metrics.append(metrics)\n",
    "    index_list.append(name)\n",
    "\n",
    "idx = pd.Series(index_list)\n",
    "eval_df = pd.DataFrame(eval_metrics)\n",
    "#view results\n",
    "pd.concat([idx, eval_df], axis = 1)"
   ]
  },
  {
   "cell_type": "code",
   "execution_count": 6,
   "metadata": {},
   "outputs": [],
   "source": [
    "xbr = xgb.XGBRegressor(objective = 'reg:squarederror')"
   ]
  },
  {
   "cell_type": "code",
   "execution_count": 7,
   "metadata": {},
   "outputs": [
    {
     "name": "stderr",
     "output_type": "stream",
     "text": [
      "/anaconda3/lib/python3.7/site-packages/xgboost/core.py:587: FutureWarning: Series.base is deprecated and will be removed in a future version\n",
      "  if getattr(data, 'base', None) is not None and \\\n"
     ]
    },
    {
     "data": {
      "text/plain": [
       "XGBRegressor(base_score=0.5, booster='gbtree', colsample_bylevel=1,\n",
       "             colsample_bynode=1, colsample_bytree=1, gamma=0,\n",
       "             importance_type='gain', learning_rate=0.1, max_delta_step=0,\n",
       "             max_depth=3, min_child_weight=1, missing=None, n_estimators=100,\n",
       "             n_jobs=1, nthread=None, objective='reg:squarederror',\n",
       "             random_state=0, reg_alpha=0, reg_lambda=1, scale_pos_weight=1,\n",
       "             seed=None, silent=None, subsample=1, verbosity=1)"
      ]
     },
     "execution_count": 7,
     "metadata": {},
     "output_type": "execute_result"
    }
   ],
   "source": [
    "xbr.fit(x_train, y_train)"
   ]
  },
  {
   "cell_type": "code",
   "execution_count": 8,
   "metadata": {},
   "outputs": [],
   "source": [
    "y_preds = xbr.predict(x_test)"
   ]
  },
  {
   "cell_type": "code",
   "execution_count": 9,
   "metadata": {},
   "outputs": [
    {
     "data": {
      "text/plain": [
       "{'RMSE': 0.9748428028749276,\n",
       " 'explained_variance': 0.037377413957349725,\n",
       " 'r2_score': 0.03737210884566455}"
      ]
     },
     "execution_count": 9,
     "metadata": {},
     "output_type": "execute_result"
    }
   ],
   "source": [
    "get_metrics(y_test, y_preds)"
   ]
  },
  {
   "cell_type": "code",
   "execution_count": 20,
   "metadata": {},
   "outputs": [
    {
     "data": {
      "text/plain": [
       "{'RMSE': 0.9807378652784794,\n",
       " 'explained_variance': 0.02761727874242703,\n",
       " 'r2_score': 0.0275959864936407}"
      ]
     },
     "execution_count": 20,
     "metadata": {},
     "output_type": "execute_result"
    }
   ],
   "source": [
    "xbr = xgb.XGBRegressor(objective = 'reg:squarederror')\n",
    "xbr.fit(x_train_n, y_train_n)\n",
    "y_preds = xbr.predict(x_test_n)\n",
    "get_metrics(y_test_n, y_preds)\n"
   ]
  },
  {
   "cell_type": "code",
   "execution_count": 23,
   "metadata": {},
   "outputs": [],
   "source": [
    "XBR = xgb.XGBRegressor(objective = 'reg:squarederror')"
   ]
  },
  {
   "cell_type": "code",
   "execution_count": 24,
   "metadata": {},
   "outputs": [
    {
     "data": {
      "text/plain": [
       "{'base_score': 0.5,\n",
       " 'booster': 'gbtree',\n",
       " 'colsample_bylevel': 1,\n",
       " 'colsample_bynode': 1,\n",
       " 'colsample_bytree': 1,\n",
       " 'gamma': 0,\n",
       " 'importance_type': 'gain',\n",
       " 'learning_rate': 0.1,\n",
       " 'max_delta_step': 0,\n",
       " 'max_depth': 3,\n",
       " 'min_child_weight': 1,\n",
       " 'missing': None,\n",
       " 'n_estimators': 100,\n",
       " 'nthread': 1,\n",
       " 'objective': 'reg:squarederror',\n",
       " 'reg_alpha': 0,\n",
       " 'reg_lambda': 1,\n",
       " 'scale_pos_weight': 1,\n",
       " 'seed': 0,\n",
       " 'subsample': 1,\n",
       " 'verbosity': 1}"
      ]
     },
     "execution_count": 24,
     "metadata": {},
     "output_type": "execute_result"
    }
   ],
   "source": [
    "XBR.get_xgb_params()"
   ]
  },
  {
   "cell_type": "code",
   "execution_count": 25,
   "metadata": {},
   "outputs": [],
   "source": [
    "param_grid = {'colsample_bytree' : [0.5, 0.75, 1.0],\n",
    "             'max_depth' : [3, 5, 7, 9],\n",
    "             'min_child_weight' : [0.5, 1.0],\n",
    "             'subsample' : [0.5, 0.75, 1.0]}\n",
    "random_search = RandomizedSearchCV(XBR, param_grid, random_state = 43)"
   ]
  },
  {
   "cell_type": "code",
   "execution_count": 26,
   "metadata": {},
   "outputs": [],
   "source": [
    "XGTrain = xgb.DMatrix(x_train.values, label = y_train.values)"
   ]
  },
  {
   "cell_type": "code",
   "execution_count": 30,
   "metadata": {},
   "outputs": [],
   "source": [
    "x_train_np = np.array(x_train)\n",
    "y_train_np = np.array(y_train)\n",
    "x_test_np = np.array(x_test)\n",
    "y_test_np = np.array(y_test)"
   ]
  },
  {
   "cell_type": "code",
   "execution_count": 31,
   "metadata": {},
   "outputs": [
    {
     "name": "stderr",
     "output_type": "stream",
     "text": [
      "/anaconda3/lib/python3.7/site-packages/sklearn/model_selection/_split.py:1978: FutureWarning: The default value of cv will change from 3 to 5 in version 0.22. Specify it explicitly to silence this warning.\n",
      "  warnings.warn(CV_WARNING, FutureWarning)\n"
     ]
    }
   ],
   "source": [
    "search = random_search.fit(x_train_np, y_train_np)"
   ]
  },
  {
   "cell_type": "code",
   "execution_count": 33,
   "metadata": {},
   "outputs": [
    {
     "data": {
      "text/html": [
       "<div>\n",
       "<style scoped>\n",
       "    .dataframe tbody tr th:only-of-type {\n",
       "        vertical-align: middle;\n",
       "    }\n",
       "\n",
       "    .dataframe tbody tr th {\n",
       "        vertical-align: top;\n",
       "    }\n",
       "\n",
       "    .dataframe thead th {\n",
       "        text-align: right;\n",
       "    }\n",
       "</style>\n",
       "<table border=\"1\" class=\"dataframe\">\n",
       "  <thead>\n",
       "    <tr style=\"text-align: right;\">\n",
       "      <th></th>\n",
       "      <th>mean_fit_time</th>\n",
       "      <th>std_fit_time</th>\n",
       "      <th>mean_score_time</th>\n",
       "      <th>std_score_time</th>\n",
       "      <th>param_subsample</th>\n",
       "      <th>param_min_child_weight</th>\n",
       "      <th>param_max_depth</th>\n",
       "      <th>param_colsample_bytree</th>\n",
       "      <th>params</th>\n",
       "      <th>split0_test_score</th>\n",
       "      <th>split1_test_score</th>\n",
       "      <th>split2_test_score</th>\n",
       "      <th>mean_test_score</th>\n",
       "      <th>std_test_score</th>\n",
       "      <th>rank_test_score</th>\n",
       "    </tr>\n",
       "  </thead>\n",
       "  <tbody>\n",
       "    <tr>\n",
       "      <th>0</th>\n",
       "      <td>28.399510</td>\n",
       "      <td>0.190487</td>\n",
       "      <td>0.248880</td>\n",
       "      <td>0.003141</td>\n",
       "      <td>0.5</td>\n",
       "      <td>1</td>\n",
       "      <td>5</td>\n",
       "      <td>1</td>\n",
       "      <td>{'subsample': 0.5, 'min_child_weight': 1.0, 'm...</td>\n",
       "      <td>0.035921</td>\n",
       "      <td>0.035030</td>\n",
       "      <td>0.035621</td>\n",
       "      <td>0.035524</td>\n",
       "      <td>0.000370</td>\n",
       "      <td>4</td>\n",
       "    </tr>\n",
       "    <tr>\n",
       "      <th>1</th>\n",
       "      <td>40.649747</td>\n",
       "      <td>0.193675</td>\n",
       "      <td>0.429709</td>\n",
       "      <td>0.008081</td>\n",
       "      <td>0.5</td>\n",
       "      <td>1</td>\n",
       "      <td>7</td>\n",
       "      <td>1</td>\n",
       "      <td>{'subsample': 0.5, 'min_child_weight': 1.0, 'm...</td>\n",
       "      <td>0.031223</td>\n",
       "      <td>0.028803</td>\n",
       "      <td>0.028881</td>\n",
       "      <td>0.029636</td>\n",
       "      <td>0.001123</td>\n",
       "      <td>8</td>\n",
       "    </tr>\n",
       "    <tr>\n",
       "      <th>2</th>\n",
       "      <td>56.094304</td>\n",
       "      <td>0.677879</td>\n",
       "      <td>0.584984</td>\n",
       "      <td>0.007267</td>\n",
       "      <td>0.75</td>\n",
       "      <td>1</td>\n",
       "      <td>9</td>\n",
       "      <td>1</td>\n",
       "      <td>{'subsample': 0.75, 'min_child_weight': 1.0, '...</td>\n",
       "      <td>0.026213</td>\n",
       "      <td>0.024002</td>\n",
       "      <td>0.024780</td>\n",
       "      <td>0.024998</td>\n",
       "      <td>0.000916</td>\n",
       "      <td>10</td>\n",
       "    </tr>\n",
       "    <tr>\n",
       "      <th>3</th>\n",
       "      <td>19.413177</td>\n",
       "      <td>0.432719</td>\n",
       "      <td>0.165132</td>\n",
       "      <td>0.003543</td>\n",
       "      <td>0.75</td>\n",
       "      <td>1</td>\n",
       "      <td>3</td>\n",
       "      <td>1</td>\n",
       "      <td>{'subsample': 0.75, 'min_child_weight': 1.0, '...</td>\n",
       "      <td>0.038689</td>\n",
       "      <td>0.037563</td>\n",
       "      <td>0.038038</td>\n",
       "      <td>0.038096</td>\n",
       "      <td>0.000461</td>\n",
       "      <td>3</td>\n",
       "    </tr>\n",
       "    <tr>\n",
       "      <th>4</th>\n",
       "      <td>26.458323</td>\n",
       "      <td>0.133916</td>\n",
       "      <td>0.423393</td>\n",
       "      <td>0.004703</td>\n",
       "      <td>0.75</td>\n",
       "      <td>0.5</td>\n",
       "      <td>7</td>\n",
       "      <td>0.5</td>\n",
       "      <td>{'subsample': 0.75, 'min_child_weight': 0.5, '...</td>\n",
       "      <td>0.034889</td>\n",
       "      <td>0.032286</td>\n",
       "      <td>0.032783</td>\n",
       "      <td>0.033320</td>\n",
       "      <td>0.001128</td>\n",
       "      <td>6</td>\n",
       "    </tr>\n",
       "    <tr>\n",
       "      <th>5</th>\n",
       "      <td>25.563272</td>\n",
       "      <td>0.224323</td>\n",
       "      <td>0.446083</td>\n",
       "      <td>0.008649</td>\n",
       "      <td>0.5</td>\n",
       "      <td>1</td>\n",
       "      <td>7</td>\n",
       "      <td>0.5</td>\n",
       "      <td>{'subsample': 0.5, 'min_child_weight': 1.0, 'm...</td>\n",
       "      <td>0.029829</td>\n",
       "      <td>0.031482</td>\n",
       "      <td>0.031395</td>\n",
       "      <td>0.030902</td>\n",
       "      <td>0.000760</td>\n",
       "      <td>7</td>\n",
       "    </tr>\n",
       "    <tr>\n",
       "      <th>6</th>\n",
       "      <td>13.686309</td>\n",
       "      <td>0.120636</td>\n",
       "      <td>0.159069</td>\n",
       "      <td>0.004216</td>\n",
       "      <td>1</td>\n",
       "      <td>1</td>\n",
       "      <td>3</td>\n",
       "      <td>0.5</td>\n",
       "      <td>{'subsample': 1.0, 'min_child_weight': 1.0, 'm...</td>\n",
       "      <td>0.038732</td>\n",
       "      <td>0.037695</td>\n",
       "      <td>0.037952</td>\n",
       "      <td>0.038126</td>\n",
       "      <td>0.000441</td>\n",
       "      <td>2</td>\n",
       "    </tr>\n",
       "    <tr>\n",
       "      <th>7</th>\n",
       "      <td>44.181541</td>\n",
       "      <td>0.310536</td>\n",
       "      <td>0.381347</td>\n",
       "      <td>0.009082</td>\n",
       "      <td>1</td>\n",
       "      <td>0.5</td>\n",
       "      <td>7</td>\n",
       "      <td>1</td>\n",
       "      <td>{'subsample': 1.0, 'min_child_weight': 0.5, 'm...</td>\n",
       "      <td>0.033983</td>\n",
       "      <td>0.033566</td>\n",
       "      <td>0.033047</td>\n",
       "      <td>0.033532</td>\n",
       "      <td>0.000383</td>\n",
       "      <td>5</td>\n",
       "    </tr>\n",
       "    <tr>\n",
       "      <th>8</th>\n",
       "      <td>44.113638</td>\n",
       "      <td>0.408194</td>\n",
       "      <td>0.524187</td>\n",
       "      <td>0.008761</td>\n",
       "      <td>1</td>\n",
       "      <td>0.5</td>\n",
       "      <td>9</td>\n",
       "      <td>0.75</td>\n",
       "      <td>{'subsample': 1.0, 'min_child_weight': 0.5, 'm...</td>\n",
       "      <td>0.030301</td>\n",
       "      <td>0.028418</td>\n",
       "      <td>0.029012</td>\n",
       "      <td>0.029244</td>\n",
       "      <td>0.000786</td>\n",
       "      <td>9</td>\n",
       "    </tr>\n",
       "    <tr>\n",
       "      <th>9</th>\n",
       "      <td>16.751789</td>\n",
       "      <td>0.298909</td>\n",
       "      <td>0.161895</td>\n",
       "      <td>0.001903</td>\n",
       "      <td>1</td>\n",
       "      <td>0.5</td>\n",
       "      <td>3</td>\n",
       "      <td>0.75</td>\n",
       "      <td>{'subsample': 1.0, 'min_child_weight': 0.5, 'm...</td>\n",
       "      <td>0.038727</td>\n",
       "      <td>0.037846</td>\n",
       "      <td>0.038114</td>\n",
       "      <td>0.038229</td>\n",
       "      <td>0.000369</td>\n",
       "      <td>1</td>\n",
       "    </tr>\n",
       "  </tbody>\n",
       "</table>\n",
       "</div>"
      ],
      "text/plain": [
       "   mean_fit_time  std_fit_time  mean_score_time  std_score_time  \\\n",
       "0      28.399510      0.190487         0.248880        0.003141   \n",
       "1      40.649747      0.193675         0.429709        0.008081   \n",
       "2      56.094304      0.677879         0.584984        0.007267   \n",
       "3      19.413177      0.432719         0.165132        0.003543   \n",
       "4      26.458323      0.133916         0.423393        0.004703   \n",
       "5      25.563272      0.224323         0.446083        0.008649   \n",
       "6      13.686309      0.120636         0.159069        0.004216   \n",
       "7      44.181541      0.310536         0.381347        0.009082   \n",
       "8      44.113638      0.408194         0.524187        0.008761   \n",
       "9      16.751789      0.298909         0.161895        0.001903   \n",
       "\n",
       "  param_subsample param_min_child_weight param_max_depth  \\\n",
       "0             0.5                      1               5   \n",
       "1             0.5                      1               7   \n",
       "2            0.75                      1               9   \n",
       "3            0.75                      1               3   \n",
       "4            0.75                    0.5               7   \n",
       "5             0.5                      1               7   \n",
       "6               1                      1               3   \n",
       "7               1                    0.5               7   \n",
       "8               1                    0.5               9   \n",
       "9               1                    0.5               3   \n",
       "\n",
       "  param_colsample_bytree                                             params  \\\n",
       "0                      1  {'subsample': 0.5, 'min_child_weight': 1.0, 'm...   \n",
       "1                      1  {'subsample': 0.5, 'min_child_weight': 1.0, 'm...   \n",
       "2                      1  {'subsample': 0.75, 'min_child_weight': 1.0, '...   \n",
       "3                      1  {'subsample': 0.75, 'min_child_weight': 1.0, '...   \n",
       "4                    0.5  {'subsample': 0.75, 'min_child_weight': 0.5, '...   \n",
       "5                    0.5  {'subsample': 0.5, 'min_child_weight': 1.0, 'm...   \n",
       "6                    0.5  {'subsample': 1.0, 'min_child_weight': 1.0, 'm...   \n",
       "7                      1  {'subsample': 1.0, 'min_child_weight': 0.5, 'm...   \n",
       "8                   0.75  {'subsample': 1.0, 'min_child_weight': 0.5, 'm...   \n",
       "9                   0.75  {'subsample': 1.0, 'min_child_weight': 0.5, 'm...   \n",
       "\n",
       "   split0_test_score  split1_test_score  split2_test_score  mean_test_score  \\\n",
       "0           0.035921           0.035030           0.035621         0.035524   \n",
       "1           0.031223           0.028803           0.028881         0.029636   \n",
       "2           0.026213           0.024002           0.024780         0.024998   \n",
       "3           0.038689           0.037563           0.038038         0.038096   \n",
       "4           0.034889           0.032286           0.032783         0.033320   \n",
       "5           0.029829           0.031482           0.031395         0.030902   \n",
       "6           0.038732           0.037695           0.037952         0.038126   \n",
       "7           0.033983           0.033566           0.033047         0.033532   \n",
       "8           0.030301           0.028418           0.029012         0.029244   \n",
       "9           0.038727           0.037846           0.038114         0.038229   \n",
       "\n",
       "   std_test_score  rank_test_score  \n",
       "0        0.000370                4  \n",
       "1        0.001123                8  \n",
       "2        0.000916               10  \n",
       "3        0.000461                3  \n",
       "4        0.001128                6  \n",
       "5        0.000760                7  \n",
       "6        0.000441                2  \n",
       "7        0.000383                5  \n",
       "8        0.000786                9  \n",
       "9        0.000369                1  "
      ]
     },
     "execution_count": 33,
     "metadata": {},
     "output_type": "execute_result"
    }
   ],
   "source": [
    "pd.DataFrame(search.cv_results_)"
   ]
  },
  {
   "cell_type": "code",
   "execution_count": 34,
   "metadata": {},
   "outputs": [
    {
     "data": {
      "text/plain": [
       "{'subsample': 1.0,\n",
       " 'min_child_weight': 0.5,\n",
       " 'max_depth': 3,\n",
       " 'colsample_bytree': 0.75}"
      ]
     },
     "execution_count": 34,
     "metadata": {},
     "output_type": "execute_result"
    }
   ],
   "source": [
    "search.best_params_"
   ]
  },
  {
   "cell_type": "code",
   "execution_count": null,
   "metadata": {},
   "outputs": [],
   "source": []
  }
 ],
 "metadata": {
  "kernelspec": {
   "display_name": "Python 3",
   "language": "python",
   "name": "python3"
  },
  "language_info": {
   "codemirror_mode": {
    "name": "ipython",
    "version": 3
   },
   "file_extension": ".py",
   "mimetype": "text/x-python",
   "name": "python",
   "nbconvert_exporter": "python",
   "pygments_lexer": "ipython3",
   "version": "3.7.3"
  }
 },
 "nbformat": 4,
 "nbformat_minor": 2
}
